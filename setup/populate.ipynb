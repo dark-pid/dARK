{
 "cells": [
  {
   "cell_type": "code",
   "execution_count": null,
   "metadata": {},
   "outputs": [],
   "source": [
    "import pandas as pd\n",
    "import numpy as np\n",
    "import ast"
   ]
  },
  {
   "cell_type": "markdown",
   "metadata": {},
   "source": [
    "## Reading and processing data from INPE Researcher And Publications"
   ]
  },
  {
   "cell_type": "code",
   "execution_count": null,
   "metadata": {},
   "outputs": [],
   "source": [
    "dataset_dir = '/mnt/d/Dados/OneDrive/IBICT/datasets/inpe/'\n",
    "file_researchers = 'Lattes_Metadata.csv'\n",
    "file_pubs = 'Lattes_Papers.csv'"
   ]
  },
  {
   "cell_type": "code",
   "execution_count": null,
   "metadata": {},
   "outputs": [],
   "source": [
    "encoding = \"ISO-8859-1\"\n",
    "\n",
    "sel_cols=['i16','year','title','journal']\n",
    "\n",
    "def converter(val):\n",
    "    if val == np.nan:\n",
    "        return 0\n",
    "    return val\n",
    "\n",
    "dfr = pd.read_csv(dataset_dir+file_researchers,sep=',',encoding=encoding)\n",
    "dfp = pd.read_csv(dataset_dir+file_pubs,sep=',',\n",
    "                    usecols=sel_cols,\n",
    "                    # dtype={\"year\": \"int16\"},\n",
    "                    # chunksize=1000,\n",
    "                    encoding=encoding)"
   ]
  },
  {
   "cell_type": "code",
   "execution_count": null,
   "metadata": {},
   "outputs": [],
   "source": [
    "researchers = dfr.set_index(['i16'])\n",
    "researchers.sort_index(inplace=True)"
   ]
  },
  {
   "cell_type": "markdown",
   "metadata": {},
   "source": [
    "## Populate Dπ-dev net"
   ]
  },
  {
   "cell_type": "code",
   "execution_count": null,
   "metadata": {},
   "outputs": [],
   "source": [
    "import os\n",
    "import time\n",
    "import logging\n",
    "\n",
    "from tqdm.notebook import tqdm\n",
    "\n",
    "from web3.providers.eth_tester import EthereumTesterProvider\n",
    "from web3 import Web3\n",
    "from web3.auto import w3\n",
    "\n",
    "from web3.exceptions import TransactionNotFound\n",
    "from eth_tester import PyEVMBackend\n",
    "from hexbytes import HexBytes\n",
    "\n",
    "\n",
    "from libs import compile_contract\n",
    "from eth_tester.exceptions import TransactionFailed"
   ]
  },
  {
   "cell_type": "markdown",
   "metadata": {},
   "source": [
    "### Methods"
   ]
  },
  {
   "cell_type": "code",
   "execution_count": null,
   "metadata": {},
   "outputs": [],
   "source": [
    "def get_tx_params(gas,account,chain_id=1337,min_gas_price='100'):\n",
    "    # nonce = w3.eth.getTransactionCount(acount.address)\n",
    "    nonce = w3.eth.getTransactionCount(w3.toChecksumAddress(account.address))\n",
    "    tx_params = {'from': account.address,\n",
    "                # 'to': contractAddress,\n",
    "                'nonce': nonce,\n",
    "                'gas': gas * 2,\n",
    "                'gasPrice': w3.toWei(min_gas_price, 'gwei'), # defaul min gas price to besu (nao funciona w3.eth.gas_price)\n",
    "                'chainId': chain_id\n",
    "    }\n",
    "    return tx_params"
   ]
  },
  {
   "cell_type": "markdown",
   "metadata": {},
   "source": [
    "### Execution"
   ]
  },
  {
   "cell_type": "markdown",
   "metadata": {},
   "source": [
    "Network configuration"
   ]
  },
  {
   "cell_type": "code",
   "execution_count": null,
   "metadata": {},
   "outputs": [],
   "source": [
    "# virtual env\n",
    "# w3 = Web3(EthereumTesterProvider(PyEVMBackend()))\n",
    "\n",
    "# Test Env\n",
    "# HTTPProvider:\n",
    "from web3 import Web3, IPCProvider\n",
    "w3 = Web3(Web3.HTTPProvider('http://127.0.0.1:8545'))\n",
    "from web3.middleware import geth_poa_middleware\n",
    "w3.middleware_onion.inject(geth_poa_middleware, layer=0)\n",
    "\n",
    "chain_id=1337"
   ]
  },
  {
   "cell_type": "markdown",
   "metadata": {},
   "source": [
    "account importing"
   ]
  },
  {
   "cell_type": "code",
   "execution_count": null,
   "metadata": {},
   "outputs": [],
   "source": [
    "privateKey='c87509a1c067bbde78beb793e6fa76530b6382a4c0241e5e4a9ec0a0f44dc0d3'\n",
    "acount = w3.eth.account.privateKeyToAccount(privateKey)\n",
    "# w3.eth.get_balance(acount.address)"
   ]
  },
  {
   "cell_type": "markdown",
   "metadata": {},
   "source": [
    "Contract setup"
   ]
  },
  {
   "cell_type": "code",
   "execution_count": null,
   "metadata": {},
   "outputs": [],
   "source": [
    "researcher_db_addr = '0xC8c03647d39a96f02f6Ce8999bc22493C290e734'\n",
    "publication_db_addr = '0x446e083592D2dFa6661E20097F6898990C3CACE5'\n",
    "# researcher_db_addr = '0xc0ED63E3A70BfCB003452B1Cc083db822e1f23e1'"
   ]
  },
  {
   "cell_type": "code",
   "execution_count": null,
   "metadata": {},
   "outputs": [],
   "source": [
    "dapp_dir = '..'+os.sep+'Dapp'+os.sep+'contracts'+os.sep\n",
    "\n",
    "dapp_libs = [ dapp_dir + 'libs' + os.sep + 'EntitiesLib.sol' , dapp_dir + 'util' +os.sep+ 'HitchensUnorderedKeySet.sol']\n",
    "\n",
    "contract_interface = compile_contract('ResearcherDB.sol',dapp_dir,dapp_libs)\n",
    "print('ResearcherDB :: ', researcher_db_addr)\n",
    "researcher_db_contract = w3.eth.contract(address=researcher_db_addr, abi=contract_interface[\"abi\"])\n",
    "\n",
    "# PUblications\n",
    "contract_interface = compile_contract('PublicationDB.sol',dapp_dir,dapp_libs)\n",
    "print('PublicationDB :: ', publication_db_addr)\n",
    "publication_db_contract = w3.eth.contract(address=publication_db_addr, abi=contract_interface[\"abi\"])\n"
   ]
  },
  {
   "cell_type": "markdown",
   "metadata": {},
   "source": [
    "populate"
   ]
  },
  {
   "cell_type": "code",
   "execution_count": null,
   "metadata": {},
   "outputs": [],
   "source": [
    "publications = dfp\n",
    "\n",
    "tempo_pesquisador = [['0',0,0]]\n",
    "tempo_publicacao = [['0',0,0]]\n",
    "\n",
    "ee = []\n",
    "titulos = publications.title.unique()\n",
    "\n",
    "for titulo in tqdm(titulos[14000:]):\n",
    "    ldf = publications[publications.title == titulo]\n",
    "    ano = ldf.year.head(1).values[0]\n",
    "    \n",
    "    authors = []\n",
    "    #recuperando e criando os autores\n",
    "    try:\n",
    "        for row in ldf.itertuples():\n",
    "            researcher_name = researchers.loc[row.i16]['name']\n",
    "            \n",
    "            exist_flag, author_id = researcher_db_contract.functions.getResearcherByName(researcher_name).call()\n",
    "\n",
    "            est_gas = 0\n",
    "            if exist_flag == False:\n",
    "                start = time.time()\n",
    "                #estimate de gas\n",
    "                est_gas = researcher_db_contract.functions.createResearcher(researcher_name).estimateGas()\n",
    "                #build the tx params\n",
    "                tx_params = get_tx_params(est_gas,acount,chain_id=chain_id)\n",
    "\n",
    "                tx = researcher_db_contract.functions.createResearcher(researcher_name).buildTransaction(tx_params)\n",
    "                signed_tx = acount.signTransaction(tx)\n",
    "                # send the transaction\n",
    "                tx_hash = w3.eth.sendRawTransaction(signed_tx.rawTransaction)\n",
    "                receipt = w3.eth.wait_for_transaction_receipt(tx_hash)\n",
    "                end_create_researcher = time.time() - start\n",
    "                debug_line = [Web3.toHex(author_id),est_gas,end_create_researcher]\n",
    "                tempo_pesquisador.append(debug_line)\n",
    "            #adciona a lista dos autores da publicacao\n",
    "            authors.append(author_id)\n",
    "        \n",
    "            try:\n",
    "                start = time.time()\n",
    "                est_gas = publication_db_contract.functions.createPublication(titulo,int(ano),'journal',authors).estimateGas()\n",
    "                tx_params = get_tx_params(est_gas,acount,chain_id=chain_id)\n",
    "                tx = publication_db_contract.functions.createPublication(titulo,int(ano),'journal',authors).buildTransaction(tx_params)\n",
    "                \n",
    "                signed_tx = acount.signTransaction(tx)\n",
    "                tx_hash = w3.eth.sendRawTransaction(signed_tx.rawTransaction)\n",
    "                receipt = w3.eth.wait_for_transaction_receipt(tx_hash)\n",
    "\n",
    "                end_create_pub = time.time() - start\n",
    "                debug_line = [receipt['transactionHash'],est_gas,end_create_pub]\n",
    "                tempo_publicacao.append(debug_line)\n",
    "                time.sleep(.2)\n",
    "                \n",
    "            # except TransactionFailed:\n",
    "            #     print('    JA EXISTE')\n",
    "            except ValueError as e:\n",
    "                import ast\n",
    "                e_error = ast.literal_eval(str(e))\n",
    "                if e_error['message'] == 'Execution reverted':\n",
    "                    # print('    JA EXISTE - ' + titulo)\n",
    "                    break\n",
    "    except ValueError as e: \n",
    "        e_error = ast.literal_eval(str(e))\n",
    "        if e_error['message'] == 'Execution reverted':\n",
    "            print(e_error['message'] + '::' + e_error['data'])\n",
    "            break\n",
    "        if e_error['message'] == 'Transaction gas limit exceeds block gas limit':\n",
    "            print(e_error['message'])\n",
    "\n",
    "#\n",
    "tempo_pesquisador = pd.DataFrame(tempo_pesquisador)\n",
    "tempo_pesquisador.columns = ['researche_id','gas','time']\n",
    "tempo_pesquisador.to_csv('tempo_pesquisador.csv', mode='a', index=False,header=False)\n",
    "\n",
    "tempo_publicacao = pd.DataFrame(tempo_publicacao)\n",
    "tempo_publicacao.columns = ['transactionHash','gas','time']\n",
    "tempo_publicacao.to_csv('tempo_publicacao.csv', mode='a', index=False,header=False)"
   ]
  },
  {
   "cell_type": "code",
   "execution_count": null,
   "metadata": {},
   "outputs": [],
   "source": [
    "tempo_pesquisador = pd.DataFrame(tempo_pesquisador)\n",
    "tempo_pesquisador.columns = ['researche_id','gas','time']\n",
    "tempo_pesquisador.to_csv('tempo_pesquisador.csv', mode='a', index=False,header=False)\n",
    "\n",
    "tempo_publicacao = pd.DataFrame(tempo_publicacao)\n",
    "tempo_publicacao.columns = ['transactionHash','gas','time']\n",
    "tempo_publicacao.to_csv('tempo_publicacao.csv', mode='a', index=False,header=False)"
   ]
  },
  {
   "cell_type": "markdown",
   "metadata": {},
   "source": [
    "### Other contract Iteractions"
   ]
  },
  {
   "cell_type": "markdown",
   "metadata": {},
   "source": [
    "iteractive operation to the smart contracts"
   ]
  },
  {
   "cell_type": "code",
   "execution_count": null,
   "metadata": {},
   "outputs": [],
   "source": [
    "researcher_db_contract.functions.getResearcherByName('Ze das couves').call()"
   ]
  },
  {
   "cell_type": "code",
   "execution_count": null,
   "metadata": {},
   "outputs": [],
   "source": [
    "#estimate de gas\n",
    "est_gas = researcher_db_contract.functions.createResearcher('Maria').estimateGas()\n",
    "            #build the tx params\n",
    "tx_params = get_tx_params(est_gas,acount,chain_id=chain_id)\n",
    "\n",
    "tx = researcher_db_contract.functions.createResearcher('Maria').buildTransaction(tx_params)\n",
    "signed_tx = acount.signTransaction(tx)\n",
    "# send the transaction\n",
    "tx_hash = w3.eth.sendRawTransaction(signed_tx.rawTransaction)\n",
    "receipt = w3.eth.wait_for_transaction_receipt(tx_hash)"
   ]
  },
  {
   "cell_type": "code",
   "execution_count": null,
   "metadata": {},
   "outputs": [],
   "source": [
    "researcher_db_contract.functions.getResearcherByName('Maria').call()"
   ]
  },
  {
   "cell_type": "code",
   "execution_count": null,
   "metadata": {},
   "outputs": [],
   "source": [
    "id = researcher_db_contract.functions.getResearcherIdAtIndex(0).call()\n",
    "# id = '0x13e3d7a18183146440048716dd45b252200133f27bef8a56d852de498a2f8d4a'\n",
    "researcher_db_contract.functions.getResearcherById(id).call()"
   ]
  },
  {
   "cell_type": "code",
   "execution_count": null,
   "metadata": {},
   "outputs": [],
   "source": [
    "researcher_db_contract.functions.countResearchers().call()"
   ]
  },
  {
   "cell_type": "code",
   "execution_count": null,
   "metadata": {},
   "outputs": [],
   "source": [
    "publication_db_contract.functions.countPublications().call()"
   ]
  },
  {
   "cell_type": "code",
   "execution_count": null,
   "metadata": {},
   "outputs": [],
   "source": [
    "idp1 = publication_db_contract.functions.getPublicationIdAtIndex(1).call()\n",
    "publication_db_contract.functions.getPublicationById(idp1).call()"
   ]
  },
  {
   "cell_type": "code",
   "execution_count": null,
   "metadata": {},
   "outputs": [],
   "source": [
    "id = b'\\x18\\xa1\\x8a\\xac\\x0e\\x11\\xeb\\x92\\xa7\\xb0e\\xf81\\x04\\x90G\\xf5\\x1f\\xb0\\xd0\\x88yyG\\x81+#\\xff\\xa6\\\\g\\xd2'\n",
    "Web3.toHex(id)"
   ]
  },
  {
   "cell_type": "code",
   "execution_count": null,
   "metadata": {},
   "outputs": [],
   "source": [
    "researcher_db_contract.functions.getResearcherById(id).call()"
   ]
  }
 ],
 "metadata": {
  "interpreter": {
   "hash": "3205a0140dd6f24c0dd9edd5546dd90f7a596f2328c4e733fa92c4954d87b72e"
  },
  "kernelspec": {
   "display_name": "Python 3.8.10 ('web3')",
   "language": "python",
   "name": "python3"
  },
  "language_info": {
   "codemirror_mode": {
    "name": "ipython",
    "version": 3
   },
   "file_extension": ".py",
   "mimetype": "text/x-python",
   "name": "python",
   "nbconvert_exporter": "python",
   "pygments_lexer": "ipython3",
   "version": "3.8.10"
  },
  "orig_nbformat": 4
 },
 "nbformat": 4,
 "nbformat_minor": 2
}
