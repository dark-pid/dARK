{
 "cells": [
  {
   "cell_type": "code",
   "execution_count": 1,
   "metadata": {},
   "outputs": [],
   "source": [
    "import pandas as pd\n",
    "import numpy as np"
   ]
  },
  {
   "cell_type": "markdown",
   "metadata": {},
   "source": [
    "## Reading and processing data from INPE Researcher And Publications"
   ]
  },
  {
   "cell_type": "code",
   "execution_count": 2,
   "metadata": {},
   "outputs": [],
   "source": [
    "dataset_dir = '/mnt/d/Dados/OneDrive/IBICT/datasets/inpe/'\n",
    "file_researchers = 'Lattes_Metadata.csv'\n",
    "file_pubs = 'Lattes_Papers.csv'"
   ]
  },
  {
   "cell_type": "code",
   "execution_count": 3,
   "metadata": {},
   "outputs": [
    {
     "name": "stderr",
     "output_type": "stream",
     "text": [
      "/tmp/ipykernel_354/2107384625.py:11: DtypeWarning: Columns (3) have mixed types. Specify dtype option on import or set low_memory=False.\n",
      "  dfp = pd.read_csv(dataset_dir+file_pubs,sep=',',\n"
     ]
    }
   ],
   "source": [
    "encoding = \"ISO-8859-1\"\n",
    "\n",
    "sel_cols=['i16','year','title','journal']\n",
    "\n",
    "def converter(val):\n",
    "    if val == np.nan:\n",
    "        return 0\n",
    "    return val\n",
    "\n",
    "dfr = pd.read_csv(dataset_dir+file_researchers,sep=',',encoding=encoding)\n",
    "dfp = pd.read_csv(dataset_dir+file_pubs,sep=',',\n",
    "                    usecols=sel_cols,\n",
    "                    # dtype={\"year\": \"int16\"},\n",
    "                    # chunksize=1000,\n",
    "                    encoding=encoding)"
   ]
  },
  {
   "cell_type": "code",
   "execution_count": 4,
   "metadata": {},
   "outputs": [],
   "source": [
    "researchers = dfr.set_index(['i16'])\n",
    "researchers.sort_index(inplace=True)"
   ]
  },
  {
   "cell_type": "markdown",
   "metadata": {},
   "source": [
    "## Populate Dπ-dev net"
   ]
  },
  {
   "cell_type": "code",
   "execution_count": 5,
   "metadata": {},
   "outputs": [],
   "source": [
    "import os\n",
    "import time\n",
    "import logging\n",
    "\n",
    "from tqdm.notebook import tqdm\n",
    "\n",
    "from web3.providers.eth_tester import EthereumTesterProvider\n",
    "from web3 import Web3\n",
    "from web3.auto import w3\n",
    "\n",
    "from web3.exceptions import TransactionNotFound\n",
    "from eth_tester import PyEVMBackend\n",
    "from hexbytes import HexBytes\n",
    "\n",
    "\n",
    "from libs import compile_contract\n",
    "from eth_tester.exceptions import TransactionFailed"
   ]
  },
  {
   "cell_type": "markdown",
   "metadata": {},
   "source": [
    "### Methods"
   ]
  },
  {
   "cell_type": "code",
   "execution_count": 6,
   "metadata": {},
   "outputs": [],
   "source": [
    "def get_tx_params(gas,account,chain_id=1337,min_gas_price='100'):\n",
    "    # nonce = w3.eth.getTransactionCount(acount.address)\n",
    "    nonce = w3.eth.getTransactionCount(w3.toChecksumAddress(account.address))\n",
    "    tx_params = {'from': account.address,\n",
    "                # 'to': contractAddress,\n",
    "                'nonce': nonce,\n",
    "                'gas': gas * 2,\n",
    "                'gasPrice': w3.toWei(min_gas_price, 'gwei'), # defaul min gas price to besu (nao funciona w3.eth.gas_price)\n",
    "                'chainId': chain_id\n",
    "    }\n",
    "    return tx_params"
   ]
  },
  {
   "cell_type": "markdown",
   "metadata": {},
   "source": [
    "### Execution"
   ]
  },
  {
   "cell_type": "markdown",
   "metadata": {},
   "source": [
    "Network configuration"
   ]
  },
  {
   "cell_type": "code",
   "execution_count": 7,
   "metadata": {},
   "outputs": [],
   "source": [
    "# virtual env\n",
    "# w3 = Web3(EthereumTesterProvider(PyEVMBackend()))\n",
    "\n",
    "# Test Env\n",
    "# HTTPProvider:\n",
    "from web3 import Web3, IPCProvider\n",
    "w3 = Web3(Web3.HTTPProvider('http://127.0.0.1:8545'))\n",
    "from web3.middleware import geth_poa_middleware\n",
    "w3.middleware_onion.inject(geth_poa_middleware, layer=0)\n",
    "\n",
    "chain_id=1337"
   ]
  },
  {
   "cell_type": "markdown",
   "metadata": {},
   "source": [
    "account importing"
   ]
  },
  {
   "cell_type": "code",
   "execution_count": 8,
   "metadata": {},
   "outputs": [],
   "source": [
    "privateKey='c87509a1c067bbde78beb793e6fa76530b6382a4c0241e5e4a9ec0a0f44dc0d3'\n",
    "acount = w3.eth.account.privateKeyToAccount(privateKey)\n",
    "# w3.eth.get_balance(acount.address)"
   ]
  },
  {
   "cell_type": "markdown",
   "metadata": {},
   "source": [
    "Contract setup"
   ]
  },
  {
   "cell_type": "code",
   "execution_count": 9,
   "metadata": {},
   "outputs": [],
   "source": [
    "researcher_db_addr = '0xC8c03647d39a96f02f6Ce8999bc22493C290e734'\n",
    "publication_db_addr = '0x446e083592D2dFa6661E20097F6898990C3CACE5'\n",
    "# researcher_db_addr = '0xc0ED63E3A70BfCB003452B1Cc083db822e1f23e1'"
   ]
  },
  {
   "cell_type": "code",
   "execution_count": 10,
   "metadata": {},
   "outputs": [
    {
     "name": "stdout",
     "output_type": "stream",
     "text": [
      "ResearcherDB ::  0xC8c03647d39a96f02f6Ce8999bc22493C290e734\n",
      "PublicationDB ::  0x446e083592D2dFa6661E20097F6898990C3CACE5\n"
     ]
    }
   ],
   "source": [
    "dapp_dir = '..'+os.sep+'Dapp'+os.sep+'contracts'+os.sep\n",
    "\n",
    "dapp_libs = [ dapp_dir + 'libs' + os.sep + 'EntitiesLib.sol' , dapp_dir + 'util' +os.sep+ 'HitchensUnorderedKeySet.sol']\n",
    "\n",
    "contract_interface = compile_contract('ResearcherDB.sol',dapp_dir,dapp_libs)\n",
    "print('ResearcherDB :: ', researcher_db_addr)\n",
    "researcher_db_contract = w3.eth.contract(address=researcher_db_addr, abi=contract_interface[\"abi\"])\n",
    "\n",
    "# PUblications\n",
    "contract_interface = compile_contract('PublicationDB.sol',dapp_dir,dapp_libs)\n",
    "print('PublicationDB :: ', publication_db_addr)\n",
    "publication_db_contract = w3.eth.contract(address=publication_db_addr, abi=contract_interface[\"abi\"])\n"
   ]
  },
  {
   "cell_type": "markdown",
   "metadata": {},
   "source": [
    "populate"
   ]
  },
  {
   "cell_type": "code",
   "execution_count": 14,
   "metadata": {},
   "outputs": [
    {
     "data": {
      "application/vnd.jupyter.widget-view+json": {
       "model_id": "fcc0dbc7211445ccbd07fb88da811697",
       "version_major": 2,
       "version_minor": 0
      },
      "text/plain": [
       "  0%|          | 0/297272 [00:00<?, ?it/s]"
      ]
     },
     "metadata": {},
     "output_type": "display_data"
    },
    {
     "ename": "TimeExhausted",
     "evalue": "Transaction HexBytes('0x4b3717e6eeb13c169427b201295ccf8d12e59192c88053acbd26d22e974d51d9') is not in the chain after 120 seconds",
     "output_type": "error",
     "traceback": [
      "\u001b[0;31m---------------------------------------------------------------------------\u001b[0m",
      "\u001b[0;31mTimeout\u001b[0m                                   Traceback (most recent call last)",
      "File \u001b[0;32m~/pyenvs/web3/lib/python3.8/site-packages/web3/eth.py:740\u001b[0m, in \u001b[0;36mEth.wait_for_transaction_receipt\u001b[0;34m(self, transaction_hash, timeout, poll_latency)\u001b[0m\n\u001b[1;32m    <a href='file:///root/pyenvs/web3/lib/python3.8/site-packages/web3/eth.py?line=738'>739</a>\u001b[0m             \u001b[39mbreak\u001b[39;00m\n\u001b[0;32m--> <a href='file:///root/pyenvs/web3/lib/python3.8/site-packages/web3/eth.py?line=739'>740</a>\u001b[0m         _timeout\u001b[39m.\u001b[39;49msleep(poll_latency)\n\u001b[1;32m    <a href='file:///root/pyenvs/web3/lib/python3.8/site-packages/web3/eth.py?line=740'>741</a>\u001b[0m \u001b[39mreturn\u001b[39;00m tx_receipt\n",
      "File \u001b[0;32m~/pyenvs/web3/lib/python3.8/site-packages/web3/_utils/threads.py:89\u001b[0m, in \u001b[0;36mTimeout.sleep\u001b[0;34m(self, seconds)\u001b[0m\n\u001b[1;32m     <a href='file:///root/pyenvs/web3/lib/python3.8/site-packages/web3/_utils/threads.py?line=87'>88</a>\u001b[0m time\u001b[39m.\u001b[39msleep(seconds)\n\u001b[0;32m---> <a href='file:///root/pyenvs/web3/lib/python3.8/site-packages/web3/_utils/threads.py?line=88'>89</a>\u001b[0m \u001b[39mself\u001b[39;49m\u001b[39m.\u001b[39;49mcheck()\n",
      "File \u001b[0;32m~/pyenvs/web3/lib/python3.8/site-packages/web3/_utils/threads.py:82\u001b[0m, in \u001b[0;36mTimeout.check\u001b[0;34m(self)\u001b[0m\n\u001b[1;32m     <a href='file:///root/pyenvs/web3/lib/python3.8/site-packages/web3/_utils/threads.py?line=80'>81</a>\u001b[0m \u001b[39melse\u001b[39;00m:\n\u001b[0;32m---> <a href='file:///root/pyenvs/web3/lib/python3.8/site-packages/web3/_utils/threads.py?line=81'>82</a>\u001b[0m     \u001b[39mraise\u001b[39;00m \u001b[39mself\u001b[39m\n",
      "\u001b[0;31mTimeout\u001b[0m: 120 seconds",
      "\nDuring handling of the above exception, another exception occurred:\n",
      "\u001b[0;31mTimeExhausted\u001b[0m                             Traceback (most recent call last)",
      "\u001b[1;32m/mnt/d/Dados/OneDrive/IBICT/workspace/D-pi/PyPi/populate.ipynb Cell 19'\u001b[0m in \u001b[0;36m<cell line: 6>\u001b[0;34m()\u001b[0m\n\u001b[1;32m     <a href='vscode-notebook-cell://wsl%2Bubuntu-20.04/mnt/d/Dados/OneDrive/IBICT/workspace/D-pi/PyPi/populate.ipynb#ch0000019vscode-remote?line=35'>36</a>\u001b[0m     \u001b[39m# send the transaction\u001b[39;00m\n\u001b[1;32m     <a href='vscode-notebook-cell://wsl%2Bubuntu-20.04/mnt/d/Dados/OneDrive/IBICT/workspace/D-pi/PyPi/populate.ipynb#ch0000019vscode-remote?line=36'>37</a>\u001b[0m     tx_hash \u001b[39m=\u001b[39m w3\u001b[39m.\u001b[39meth\u001b[39m.\u001b[39msendRawTransaction(signed_tx\u001b[39m.\u001b[39mrawTransaction)\n\u001b[0;32m---> <a href='vscode-notebook-cell://wsl%2Bubuntu-20.04/mnt/d/Dados/OneDrive/IBICT/workspace/D-pi/PyPi/populate.ipynb#ch0000019vscode-remote?line=37'>38</a>\u001b[0m     receipt \u001b[39m=\u001b[39m w3\u001b[39m.\u001b[39;49meth\u001b[39m.\u001b[39;49mwait_for_transaction_receipt(tx_hash)\n\u001b[1;32m     <a href='vscode-notebook-cell://wsl%2Bubuntu-20.04/mnt/d/Dados/OneDrive/IBICT/workspace/D-pi/PyPi/populate.ipynb#ch0000019vscode-remote?line=40'>41</a>\u001b[0m end_create_researcher \u001b[39m=\u001b[39m time\u001b[39m.\u001b[39mtime() \u001b[39m-\u001b[39m start\n\u001b[1;32m     <a href='vscode-notebook-cell://wsl%2Bubuntu-20.04/mnt/d/Dados/OneDrive/IBICT/workspace/D-pi/PyPi/populate.ipynb#ch0000019vscode-remote?line=42'>43</a>\u001b[0m debug_line \u001b[39m=\u001b[39m [Web3\u001b[39m.\u001b[39mtoHex(author_id),est_gas,end_create_researcher]\n",
      "File \u001b[0;32m~/pyenvs/web3/lib/python3.8/site-packages/web3/eth.py:744\u001b[0m, in \u001b[0;36mEth.wait_for_transaction_receipt\u001b[0;34m(self, transaction_hash, timeout, poll_latency)\u001b[0m\n\u001b[1;32m    <a href='file:///root/pyenvs/web3/lib/python3.8/site-packages/web3/eth.py?line=740'>741</a>\u001b[0m     \u001b[39mreturn\u001b[39;00m tx_receipt\n\u001b[1;32m    <a href='file:///root/pyenvs/web3/lib/python3.8/site-packages/web3/eth.py?line=742'>743</a>\u001b[0m \u001b[39mexcept\u001b[39;00m Timeout:\n\u001b[0;32m--> <a href='file:///root/pyenvs/web3/lib/python3.8/site-packages/web3/eth.py?line=743'>744</a>\u001b[0m     \u001b[39mraise\u001b[39;00m TimeExhausted(\n\u001b[1;32m    <a href='file:///root/pyenvs/web3/lib/python3.8/site-packages/web3/eth.py?line=744'>745</a>\u001b[0m         \u001b[39mf\u001b[39m\u001b[39m\"\u001b[39m\u001b[39mTransaction \u001b[39m\u001b[39m{\u001b[39;00mHexBytes(transaction_hash) \u001b[39m!r}\u001b[39;00m\u001b[39m is not in the chain \u001b[39m\u001b[39m\"\u001b[39m\n\u001b[1;32m    <a href='file:///root/pyenvs/web3/lib/python3.8/site-packages/web3/eth.py?line=745'>746</a>\u001b[0m         \u001b[39mf\u001b[39m\u001b[39m\"\u001b[39m\u001b[39mafter \u001b[39m\u001b[39m{\u001b[39;00mtimeout\u001b[39m}\u001b[39;00m\u001b[39m seconds\u001b[39m\u001b[39m\"\u001b[39m\n\u001b[1;32m    <a href='file:///root/pyenvs/web3/lib/python3.8/site-packages/web3/eth.py?line=746'>747</a>\u001b[0m     )\n",
      "\u001b[0;31mTimeExhausted\u001b[0m: Transaction HexBytes('0x4b3717e6eeb13c169427b201295ccf8d12e59192c88053acbd26d22e974d51d9') is not in the chain after 120 seconds"
     ]
    }
   ],
   "source": [
    "publications = dfp\n",
    "\n",
    "tempo_pesquisador = []\n",
    "tempo_publicacao = []\n",
    "\n",
    "for titulo in tqdm(publications.title.unique()[4000:]):\n",
    "    ldf = publications[publications.title == titulo]\n",
    "    ano = ldf.year.head(1).values[0]\n",
    "    \n",
    "    authors = []\n",
    "    #recuperando e criando os autores\n",
    "    for row in ldf.itertuples():\n",
    "        try:\n",
    "            researcher_name = researchers.loc[row.i16]['name']\n",
    "            start = time.time()\n",
    "            \n",
    "            # try:\n",
    "            exist_flag, author_id = researcher_db_contract.functions.getResearcherByName(researcher_name).call()\n",
    "            # except ValueError:\n",
    "            # except:\n",
    "            #     est_gas = researcher_db_contract.functions.createResearcher(researcher_name).estimateGas()\n",
    "            #     tx_params = get_tx_params(est_gas,acount,chain_id=chain_id)\n",
    "            #     tx = researcher_db_contract.functions.createResearcher(researcher_name).buildTransaction(tx_params)\n",
    "            #     signed_tx = acount.signTransaction(tx)\n",
    "            #     tx_hash = w3.eth.sendRawTransaction(signed_tx.rawTransaction)\n",
    "            #     receipt = w3.eth.wait_for_transaction_receipt(tx_hash)\n",
    "\n",
    "            if exist_flag == False:\n",
    "                #estimate de gas\n",
    "                est_gas = researcher_db_contract.functions.createResearcher(researcher_name).estimateGas()\n",
    "                #build the tx params\n",
    "                tx_params = get_tx_params(est_gas,acount,chain_id=chain_id)\n",
    "\n",
    "                tx = researcher_db_contract.functions.createResearcher(researcher_name).buildTransaction(tx_params)\n",
    "                signed_tx = acount.signTransaction(tx)\n",
    "                # send the transaction\n",
    "                tx_hash = w3.eth.sendRawTransaction(signed_tx.rawTransaction)\n",
    "                receipt = w3.eth.wait_for_transaction_receipt(tx_hash)\n",
    "                \n",
    "                \n",
    "            end_create_researcher = time.time() - start\n",
    "            \n",
    "            debug_line = [Web3.toHex(author_id),est_gas,end_create_researcher]\n",
    "            tempo_pesquisador.append(debug_line)\n",
    "            authors.append(author_id)\n",
    "        \n",
    "            try:\n",
    "                start = time.time()\n",
    "                est_gas = publication_db_contract.functions.createPublication(titulo,int(ano),'journal',authors).estimateGas()\n",
    "                tx_params = get_tx_params(est_gas,acount,chain_id=chain_id)\n",
    "                tx = publication_db_contract.functions.createPublication(titulo,int(ano),'journal',authors).buildTransaction(tx_params)\n",
    "                \n",
    "                signed_tx = acount.signTransaction(tx)\n",
    "                tx_hash = w3.eth.sendRawTransaction(signed_tx.rawTransaction)\n",
    "                receipt = w3.eth.wait_for_transaction_receipt(tx_hash)\n",
    "\n",
    "                end_create_pub = time.time() - start\n",
    "                debug_line = [receipt['transactionHash'],est_gas,end_create_researcher]\n",
    "                tempo_publicacao.append(end_create_pub)\n",
    "                time.sleep(.2)\n",
    "                \n",
    "            except TransactionFailed:\n",
    "            # except ValueError:\n",
    "                print('    JA EXISTE')\n",
    "                print('      ' + titulo)\n",
    "                # print(row)\n",
    "            # row.journal\n",
    "        except ValueError as e: \n",
    "            # {'code': -32005, 'message': 'Transaction gas limit exceeds block gas limit'}\n",
    "            print(e)\n",
    "    \n",
    "\n",
    "\n",
    "#\n",
    "tempo_pesquisador = pd.DataFrame(tempo_pesquisador)\n",
    "tempo_pesquisador.columns = ['time']\n",
    "tempo_pesquisador.to_csv('tempo_pesquisador.csv')\n",
    "\n",
    "tempo_publicacao = pd.DataFrame(tempo_publicacao)\n",
    "tempo_publicacao.columns = ['time']\n",
    "tempo_publicacao.to_csv('tempo_publicacao.csv')"
   ]
  },
  {
   "cell_type": "markdown",
   "metadata": {},
   "source": [
    "### Other contract Iteractions"
   ]
  },
  {
   "cell_type": "code",
   "execution_count": null,
   "metadata": {},
   "outputs": [],
   "source": [
    "# transaction={'from': acount.address, 'gas': 100000, 'to': researcher_db_contract.address}\n",
    "# estimated_gas = cc.functions.compareEntities(int(1), int(3)).estimateGas()\n",
    "# researcher_db_contract.functions.getResearcherByName(researcher_name).call(transaction)\n",
    "researcher_db_contract.functions.getResearcherByName('Ze das couves').call()"
   ]
  },
  {
   "cell_type": "code",
   "execution_count": null,
   "metadata": {},
   "outputs": [],
   "source": [
    "#estimate de gas\n",
    "est_gas = researcher_db_contract.functions.createResearcher('Maria').estimateGas()\n",
    "            #build the tx params\n",
    "tx_params = get_tx_params(est_gas,acount,chain_id=chain_id)\n",
    "\n",
    "tx = researcher_db_contract.functions.createResearcher('Maria').buildTransaction(tx_params)\n",
    "signed_tx = acount.signTransaction(tx)\n",
    "# send the transaction\n",
    "tx_hash = w3.eth.sendRawTransaction(signed_tx.rawTransaction)\n",
    "receipt = w3.eth.wait_for_transaction_receipt(tx_hash)"
   ]
  },
  {
   "cell_type": "code",
   "execution_count": null,
   "metadata": {},
   "outputs": [],
   "source": [
    "receipt"
   ]
  },
  {
   "cell_type": "code",
   "execution_count": null,
   "metadata": {},
   "outputs": [],
   "source": [
    "researcher_db_contract.functions.getResearcherByName('Maria').call()\n"
   ]
  },
  {
   "cell_type": "code",
   "execution_count": null,
   "metadata": {},
   "outputs": [],
   "source": [
    "id = researcher_db_contract.functions.getResearcherIdAtIndex(0).call()\n",
    "researcher_db_contract.functions.getResearcherById(id).call()"
   ]
  },
  {
   "cell_type": "code",
   "execution_count": null,
   "metadata": {},
   "outputs": [],
   "source": [
    "researcher_db_contract.functions.countResearchers().call()"
   ]
  },
  {
   "cell_type": "code",
   "execution_count": 15,
   "metadata": {},
   "outputs": [
    {
     "data": {
      "text/plain": [
       "3830"
      ]
     },
     "execution_count": 15,
     "metadata": {},
     "output_type": "execute_result"
    }
   ],
   "source": [
    "publication_db_contract.functions.countPublications().call()"
   ]
  },
  {
   "cell_type": "code",
   "execution_count": null,
   "metadata": {},
   "outputs": [],
   "source": [
    "idp1 = publication_db_contract.functions.getPublicationIdAtIndex(1).call()\n",
    "publication_db_contract.functions.getPublicationById(idp1).call()"
   ]
  },
  {
   "cell_type": "code",
   "execution_count": null,
   "metadata": {},
   "outputs": [],
   "source": []
  },
  {
   "cell_type": "code",
   "execution_count": null,
   "metadata": {},
   "outputs": [],
   "source": [
    "id = b'\\x18\\xa1\\x8a\\xac\\x0e\\x11\\xeb\\x92\\xa7\\xb0e\\xf81\\x04\\x90G\\xf5\\x1f\\xb0\\xd0\\x88yyG\\x81+#\\xff\\xa6\\\\g\\xd2'\n",
    "Web3.toHex(id)"
   ]
  },
  {
   "cell_type": "code",
   "execution_count": null,
   "metadata": {},
   "outputs": [],
   "source": [
    "researcher_db_contract.functions.getResearcherById(id).call()"
   ]
  },
  {
   "cell_type": "code",
   "execution_count": null,
   "metadata": {},
   "outputs": [],
   "source": []
  }
 ],
 "metadata": {
  "interpreter": {
   "hash": "3205a0140dd6f24c0dd9edd5546dd90f7a596f2328c4e733fa92c4954d87b72e"
  },
  "kernelspec": {
   "display_name": "Python 3.8.10 ('web3')",
   "language": "python",
   "name": "python3"
  },
  "language_info": {
   "codemirror_mode": {
    "name": "ipython",
    "version": 3
   },
   "file_extension": ".py",
   "mimetype": "text/x-python",
   "name": "python",
   "nbconvert_exporter": "python",
   "pygments_lexer": "ipython3",
   "version": "3.8.10"
  },
  "orig_nbformat": 4
 },
 "nbformat": 4,
 "nbformat_minor": 2
}
