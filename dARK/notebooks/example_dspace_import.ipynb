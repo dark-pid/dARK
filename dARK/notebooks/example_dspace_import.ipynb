{
 "cells": [
  {
   "cell_type": "code",
   "execution_count": 38,
   "metadata": {},
   "outputs": [],
   "source": [
    "import sys\n",
    "import os\n",
    "\n",
    "import requests\n",
    "import json\n",
    "\n",
    "import pandas as pd\n",
    "\n",
    "from web3 import Web3\n",
    "\n",
    "# SCRIPT_DIR = os.path.dirname(os.path.abspath('__file__'))\n",
    "PROJECT_DIR = os.path.dirname(os.path.abspath(''))\n",
    "sys.path.append(os.path.dirname(PROJECT_DIR))\n",
    "\n",
    "from pyDpi.util import setup\n",
    "from pyDpi.util.libs import invoke_contract"
   ]
  },
  {
   "cell_type": "code",
   "execution_count": 39,
   "metadata": {},
   "outputs": [],
   "source": [
    "def extratc_metada(item_metada):\n",
    "    authors = []\n",
    "    title = ''\n",
    "    url = []\n",
    "    ext_pid = []\n",
    "    search_keys = []\n",
    "\n",
    "    for metada in item_metada:\n",
    "        if metada['key'] == 'dc.contributor.author':\n",
    "            authors.append(metada['value'].upper().strip())\n",
    "        if metada['key'] == 'dc.title':\n",
    "            title = metada['value'].upper()\n",
    "        if metada['key'] == 'dc.identifier.uri':\n",
    "            url.append(metada['value'])\n",
    "        if metada['key'] == 'dc.identifier.other':\n",
    "            ext_pid.append(metada['value'].strip())\n",
    "        if metada['key'] == 'dc.subject':\n",
    "            search_keys.append(metada['value'].upper().strip())\n",
    "    \n",
    "    return title,authors,url,ext_pid,search_keys"
   ]
  },
  {
   "cell_type": "markdown",
   "metadata": {},
   "source": [
    "curl -s -H \"Accept: application/xml\"  https://dspace.bc.uepb.edu.br/rest/collections\n",
    "\n",
    "https://dspace.bc.uepb.edu.br/rest\n",
    "\n",
    "https://wiki.lyrasis.org/display/DSDOC6x/REST+API#RESTAPI-RESTEndpoints"
   ]
  },
  {
   "cell_type": "code",
   "execution_count": 32,
   "metadata": {},
   "outputs": [
    {
     "name": "stdout",
     "output_type": "stream",
     "text": [
      "https://dspace.bc.uepb.edu.br/rest/collections\n"
     ]
    }
   ],
   "source": [
    "# url = 'https://dspace.bc.uepb.edu.br/rest/collections'\n",
    "#payload = open(\"request.json\")\n",
    "# headers = {'content-type': 'application/json', 'Accept-Charset': 'UTF-8'}\n",
    "# r = requests.post(url, data=payload, headers=headers)\n",
    "url_base = 'https://dspace.bc.uepb.edu.br/rest'\n",
    "cmd_url = '/collections'\n",
    "\n",
    "url = url_base + cmd_url\n",
    "print(url)\n",
    "headers = {'Accept': 'application/json'}\n",
    "r = requests.get(url, headers=headers)\n",
    "collections = json.loads(r.text)"
   ]
  },
  {
   "cell_type": "markdown",
   "metadata": {},
   "source": [
    "seleciona a menor colecao"
   ]
  },
  {
   "cell_type": "code",
   "execution_count": 33,
   "metadata": {},
   "outputs": [],
   "source": [
    "num_itens = 99999999\n",
    "selected_collection_id = -1\n",
    "for c in collections:\n",
    "    if  c['numberItems'] < num_itens:\n",
    "        if c['numberItems'] > 10:\n",
    "            # print(c)\n",
    "            selected_collection_id = c['id']\n",
    "            num_itens = c['numberItems']\n"
   ]
  },
  {
   "cell_type": "code",
   "execution_count": 34,
   "metadata": {},
   "outputs": [
    {
     "data": {
      "text/plain": [
       "(199, 11)"
      ]
     },
     "execution_count": 34,
     "metadata": {},
     "output_type": "execute_result"
    }
   ],
   "source": [
    "selected_collection_id,num_itens"
   ]
  },
  {
   "cell_type": "code",
   "execution_count": 35,
   "metadata": {},
   "outputs": [
    {
     "name": "stdout",
     "output_type": "stream",
     "text": [
      "https://dspace.bc.uepb.edu.br/rest/collections/199/items\n"
     ]
    },
    {
     "data": {
      "text/plain": [
       "11"
      ]
     },
     "execution_count": 35,
     "metadata": {},
     "output_type": "execute_result"
    }
   ],
   "source": [
    "cmd_url = '/collections/'+str(selected_collection_id)+'/items'\n",
    "\n",
    "url = url_base + cmd_url\n",
    "print(url)\n",
    "r = requests.get(url, headers=headers)\n",
    "itens = json.loads(r.text)\n",
    "\n",
    "len(itens)\n"
   ]
  },
  {
   "cell_type": "code",
   "execution_count": 45,
   "metadata": {},
   "outputs": [
    {
     "name": "stdout",
     "output_type": "stream",
     "text": [
      "/mnt/d/Dados/OneDrive/IBICT/workspace/D-pi/config.ini\n"
     ]
    }
   ],
   "source": [
    "w3 = setup.load_blockchain_driver()\n",
    "deployed_contracts = setup.load_deployed_smart_contracts(w3)\n",
    "dpid_db = deployed_contracts['PidDB.sol']\n",
    "epid_db = deployed_contracts['ExternalPidDB.sol']\n",
    "\n",
    "dpid_service = deployed_contracts['PIDService.sol']\n",
    "epid_service = deployed_contracts['ExternalPIDService.sol']\n",
    "sets_service = deployed_contracts['SearchTermService.sol']\n",
    "\n",
    "chain_id,min_gas_price,pk = setup.get_exec_parameters()\n",
    "account = w3.eth.account.privateKeyToAccount(pk)"
   ]
  },
  {
   "cell_type": "code",
   "execution_count": null,
   "metadata": {},
   "outputs": [],
   "source": []
  },
  {
   "cell_type": "code",
   "execution_count": 37,
   "metadata": {},
   "outputs": [],
   "source": [
    "def summary(author_db,item_db):\n",
    "    saida = []\n",
    "    for a in author_db.keys():\n",
    "        ida = Web3.toHex(author_db[a][:16])\n",
    "        # print(len(b))\n",
    "        # ida = eid\n",
    "        formated_id = ida[2:10]+'-'+ida[10:14]+'-'+ida[14:18]+'-'+ida[18:22]+'-'+ida[22:]\n",
    "        linha = ['person', formated_id , ida ,a]\n",
    "        saida.append(linha)\n",
    "    \n",
    "    for b in item_db.keys():\n",
    "        idb = Web3.toHex(b[:16])\n",
    "        # idb = eid\n",
    "        # print(len(b))\n",
    "        formated_id = idb[2:10]+'-'+idb[10:14]+'-'+idb[14:18]+'-'+idb[18:22]+'-'+idb[22:]\n",
    "        linha = ['article',formated_id, idb ,item_db[b]]\n",
    "        saida.append(linha)\n",
    "    \n",
    "    df = pd.DataFrame(saida)\n",
    "    df.columns = [ 'types' , 'dpi_id' , 'id_16bytes' , 'desc']\n",
    "    return df"
   ]
  },
  {
   "cell_type": "code",
   "execution_count": 40,
   "metadata": {},
   "outputs": [],
   "source": [
    "author_db = {}\n",
    "item_db = {}\n",
    "\n",
    "for item in itens:\n",
    "    item_id = item['id']\n",
    "    cmd_url = '/items/'+str(item_id)+'/metadata'\n",
    "    url = url_base + cmd_url\n",
    "    # print(url)\n",
    "    r = requests.get(url, headers=headers)\n",
    "    item_metada = json.loads(r.text)\n",
    "    title,authors,urls,ext_pid,search_keys = extratc_metada(item_metada)\n",
    "\n",
    "    #pid\n",
    "    recipt_tx = invoke_contract(w3,account,chain_id, dpid_service , 'assingUUID')\n",
    "    pid_id = recipt_tx['logs'][0]['topics'][1]\n",
    "\n",
    "    for key in search_keys:\n",
    "        recipt_tx = invoke_contract(w3,account,chain_id, sets_service , 'get_or_create_search_term' , key )\n",
    "        # sk_id = recipt_tx['logs'][0]['topics'][1]\n",
    "        recipt_tx = invoke_contract(w3,account,chain_id, dpid_service , 'addSearchTerm' , pid_id[:16], key )\n",
    "    \n",
    "    for epid in ext_pid:\n",
    "        recipt_tx = invoke_contract(w3,account,chain_id, dpid_service , 'addExternalPid' ,pid_id[:16],'CDD',epid)\n",
    "    \n",
    "    for url in urls:\n",
    "        recipt_tx = invoke_contract(w3,account,chain_id, dpid_service , 'add_externalLinks', pid_id[:16], url)\n",
    "\n",
    "    recipt_tx = invoke_contract(w3,account,chain_id, dpid_service , 'set_payload', pid_id[:16], title)\n",
    "\n",
    "    item_db[pid_id] = url\n",
    "\n",
    "    for author in authors:\n",
    "        try:\n",
    "            author_db[author]\n",
    "        except KeyError:\n",
    "            recipt_tx = invoke_contract(w3,account,chain_id, dpid_service , 'assingUUID')\n",
    "            author_id = recipt_tx['logs'][0]['topics'][1]\n",
    "            recipt_tx = invoke_contract(w3,account,chain_id, dpid_service , 'set_payload', author_id[:16], author)\n",
    "            author_db[author] = author_id"
   ]
  },
  {
   "cell_type": "code",
   "execution_count": 49,
   "metadata": {},
   "outputs": [
    {
     "name": "stdout",
     "output_type": "stream",
     "text": [
      "(b'7\\xdf\\x1a\\xd6-\\xbf\\x88\\x12\\x85\\x1e<J\\x15\\xf1\\xa4\\xd0\\xa7\\xec\\x03sA6\\x92\\x84\\x86u\\xad\\xaecQ\\x00\\xa3', b'e\\x0e<\\xc9xp5\\xc8\"\\xaddw\\x98\\x0c\\x8a\\xdb', 'CDD 363.73', 'CDD', '0xf17f52151EbEF6C7334FAD080c5704D77216b732')\n"
     ]
    }
   ],
   "source": [
    "dpi_obect = dpid_db.caller.get('0x650e3cc9787035c822ad6477980c8adb')\n",
    "\n",
    "for i in dpi_obect[2]:\n",
    "    print(epid_db.caller.get(i))"
   ]
  },
  {
   "cell_type": "code",
   "execution_count": 42,
   "metadata": {},
   "outputs": [
    {
     "data": {
      "text/html": [
       "<div>\n",
       "<style scoped>\n",
       "    .dataframe tbody tr th:only-of-type {\n",
       "        vertical-align: middle;\n",
       "    }\n",
       "\n",
       "    .dataframe tbody tr th {\n",
       "        vertical-align: top;\n",
       "    }\n",
       "\n",
       "    .dataframe thead th {\n",
       "        text-align: right;\n",
       "    }\n",
       "</style>\n",
       "<table border=\"1\" class=\"dataframe\">\n",
       "  <thead>\n",
       "    <tr style=\"text-align: right;\">\n",
       "      <th></th>\n",
       "      <th>types</th>\n",
       "      <th>dpi_id</th>\n",
       "      <th>id_16bytes</th>\n",
       "      <th>desc</th>\n",
       "    </tr>\n",
       "  </thead>\n",
       "  <tbody>\n",
       "    <tr>\n",
       "      <th>0</th>\n",
       "      <td>person</td>\n",
       "      <td>4539a771-bcd9-ed68-26f0-606bca156df5</td>\n",
       "      <td>0x4539a771bcd9ed6826f0606bca156df5</td>\n",
       "      <td>SOUZA, JOÃO BATISTA DE</td>\n",
       "    </tr>\n",
       "    <tr>\n",
       "      <th>1</th>\n",
       "      <td>person</td>\n",
       "      <td>fe5d42e3-cbd4-7a6a-2834-26f5672de4e5</td>\n",
       "      <td>0xfe5d42e3cbd47a6a283426f5672de4e5</td>\n",
       "      <td>LIMA, VICTOR HUGO MOREIRA DE</td>\n",
       "    </tr>\n",
       "    <tr>\n",
       "      <th>2</th>\n",
       "      <td>person</td>\n",
       "      <td>57ec1e35-36d8-39e0-5f7a-730049153bd9</td>\n",
       "      <td>0x57ec1e3536d839e05f7a730049153bd9</td>\n",
       "      <td>CONFESSOR, MAINE VIRGÍNIA ALVES</td>\n",
       "    </tr>\n",
       "    <tr>\n",
       "      <th>3</th>\n",
       "      <td>person</td>\n",
       "      <td>7baeb22a-ab1d-6e38-f2a5-7813cfd93b36</td>\n",
       "      <td>0x7baeb22aab1d6e38f2a57813cfd93b36</td>\n",
       "      <td>MASCARANHAS, ROSIMARY RAMOS DE OLIVEIRA</td>\n",
       "    </tr>\n",
       "    <tr>\n",
       "      <th>4</th>\n",
       "      <td>person</td>\n",
       "      <td>d53cb1c5-d20d-efa5-aa97-42d105fd3689</td>\n",
       "      <td>0xd53cb1c5d20defa5aa9742d105fd3689</td>\n",
       "      <td>ALVES, RAFAEL MACHADO DE ARAÚJO</td>\n",
       "    </tr>\n",
       "    <tr>\n",
       "      <th>5</th>\n",
       "      <td>person</td>\n",
       "      <td>6d966513-a60b-2250-ed54-0d5df28e8950</td>\n",
       "      <td>0x6d966513a60b2250ed540d5df28e8950</td>\n",
       "      <td>OGATA, IGOR SOUZA</td>\n",
       "    </tr>\n",
       "    <tr>\n",
       "      <th>6</th>\n",
       "      <td>person</td>\n",
       "      <td>0b3ecfc0-9fbd-2277-fd74-df8101590467</td>\n",
       "      <td>0x0b3ecfc09fbd2277fd74df8101590467</td>\n",
       "      <td>ANSELMO, MARIA DA GLÓRIA VIEIRA</td>\n",
       "    </tr>\n",
       "    <tr>\n",
       "      <th>7</th>\n",
       "      <td>person</td>\n",
       "      <td>736fa331-09f5-d159-74da-2432c417cc92</td>\n",
       "      <td>0x736fa33109f5d15974da2432c417cc92</td>\n",
       "      <td>NERY, JANIELE FRANÇA</td>\n",
       "    </tr>\n",
       "    <tr>\n",
       "      <th>8</th>\n",
       "      <td>person</td>\n",
       "      <td>f4686f06-8c77-d725-330b-008840ede41d</td>\n",
       "      <td>0xf4686f068c77d725330b008840ede41d</td>\n",
       "      <td>PÊ, PATRÍCIA RODRIGUES</td>\n",
       "    </tr>\n",
       "    <tr>\n",
       "      <th>9</th>\n",
       "      <td>person</td>\n",
       "      <td>3e96a1fd-5de2-f855-69a9-1f95cb68c4f3</td>\n",
       "      <td>0x3e96a1fd5de2f85569a91f95cb68c4f3</td>\n",
       "      <td>FREIRE, VITÓRIA DE ANDRADE</td>\n",
       "    </tr>\n",
       "    <tr>\n",
       "      <th>10</th>\n",
       "      <td>person</td>\n",
       "      <td>224bde41-0786-e4b5-b6ce-8c15d6fe649f</td>\n",
       "      <td>0x224bde410786e4b5b6ce8c15d6fe649f</td>\n",
       "      <td>ARAÚJO NETO, CLÁUDIO LUIS</td>\n",
       "    </tr>\n",
       "    <tr>\n",
       "      <th>11</th>\n",
       "      <td>article</td>\n",
       "      <td>99e3abef-2e13-d2ca-035f-77ef7d98882f</td>\n",
       "      <td>0x99e3abef2e13d2ca035f77ef7d98882f</td>\n",
       "      <td>http://dspace.bc.uepb.edu.br/jspui/handle/1234...</td>\n",
       "    </tr>\n",
       "    <tr>\n",
       "      <th>12</th>\n",
       "      <td>article</td>\n",
       "      <td>ae9e9b1f-ddd7-a7cb-fbe2-6ec37aaf55f7</td>\n",
       "      <td>0xae9e9b1fddd7a7cbfbe26ec37aaf55f7</td>\n",
       "      <td>http://dspace.bc.uepb.edu.br/jspui/handle/1234...</td>\n",
       "    </tr>\n",
       "    <tr>\n",
       "      <th>13</th>\n",
       "      <td>article</td>\n",
       "      <td>650e3cc9-7870-35c8-22ad-6477980c8adb</td>\n",
       "      <td>0x650e3cc9787035c822ad6477980c8adb</td>\n",
       "      <td>http://dspace.bc.uepb.edu.br/jspui/handle/1234...</td>\n",
       "    </tr>\n",
       "    <tr>\n",
       "      <th>14</th>\n",
       "      <td>article</td>\n",
       "      <td>2b1ce4cf-a0cc-04a3-c7ed-e3f022e0a70e</td>\n",
       "      <td>0x2b1ce4cfa0cc04a3c7ede3f022e0a70e</td>\n",
       "      <td>http://dspace.bc.uepb.edu.br/jspui/handle/1234...</td>\n",
       "    </tr>\n",
       "    <tr>\n",
       "      <th>15</th>\n",
       "      <td>article</td>\n",
       "      <td>a4d2c496-9e09-200b-ce52-7d9c8350b34e</td>\n",
       "      <td>0xa4d2c4969e09200bce527d9c8350b34e</td>\n",
       "      <td>http://dspace.bc.uepb.edu.br/jspui/handle/1234...</td>\n",
       "    </tr>\n",
       "    <tr>\n",
       "      <th>16</th>\n",
       "      <td>article</td>\n",
       "      <td>7982b430-9ef5-c5d1-9639-0ed8b93d095d</td>\n",
       "      <td>0x7982b4309ef5c5d196390ed8b93d095d</td>\n",
       "      <td>http://dspace.bc.uepb.edu.br/jspui/handle/1234...</td>\n",
       "    </tr>\n",
       "    <tr>\n",
       "      <th>17</th>\n",
       "      <td>article</td>\n",
       "      <td>6902a5f4-7706-fb0c-2418-7ca3703671fd</td>\n",
       "      <td>0x6902a5f47706fb0c24187ca3703671fd</td>\n",
       "      <td>http://dspace.bc.uepb.edu.br/jspui/handle/1234...</td>\n",
       "    </tr>\n",
       "    <tr>\n",
       "      <th>18</th>\n",
       "      <td>article</td>\n",
       "      <td>3c19f757-0fb5-4da6-4149-8afb1373d505</td>\n",
       "      <td>0x3c19f7570fb54da641498afb1373d505</td>\n",
       "      <td>http://dspace.bc.uepb.edu.br/jspui/handle/1234...</td>\n",
       "    </tr>\n",
       "    <tr>\n",
       "      <th>19</th>\n",
       "      <td>article</td>\n",
       "      <td>c0d44bb0-1f8b-f6ec-b61f-ceccfc472228</td>\n",
       "      <td>0xc0d44bb01f8bf6ecb61fceccfc472228</td>\n",
       "      <td>http://dspace.bc.uepb.edu.br/jspui/handle/1234...</td>\n",
       "    </tr>\n",
       "    <tr>\n",
       "      <th>20</th>\n",
       "      <td>article</td>\n",
       "      <td>c3f6f459-d9eb-9510-86b0-12451835d1f2</td>\n",
       "      <td>0xc3f6f459d9eb951086b012451835d1f2</td>\n",
       "      <td>http://dspace.bc.uepb.edu.br/jspui/handle/1234...</td>\n",
       "    </tr>\n",
       "    <tr>\n",
       "      <th>21</th>\n",
       "      <td>article</td>\n",
       "      <td>2cd8752f-44c2-8e3e-ac9e-a6d0971c9bfb</td>\n",
       "      <td>0x2cd8752f44c28e3eac9ea6d0971c9bfb</td>\n",
       "      <td>http://dspace.bc.uepb.edu.br/jspui/handle/1234...</td>\n",
       "    </tr>\n",
       "  </tbody>\n",
       "</table>\n",
       "</div>"
      ],
      "text/plain": [
       "      types                                dpi_id  \\\n",
       "0    person  4539a771-bcd9-ed68-26f0-606bca156df5   \n",
       "1    person  fe5d42e3-cbd4-7a6a-2834-26f5672de4e5   \n",
       "2    person  57ec1e35-36d8-39e0-5f7a-730049153bd9   \n",
       "3    person  7baeb22a-ab1d-6e38-f2a5-7813cfd93b36   \n",
       "4    person  d53cb1c5-d20d-efa5-aa97-42d105fd3689   \n",
       "5    person  6d966513-a60b-2250-ed54-0d5df28e8950   \n",
       "6    person  0b3ecfc0-9fbd-2277-fd74-df8101590467   \n",
       "7    person  736fa331-09f5-d159-74da-2432c417cc92   \n",
       "8    person  f4686f06-8c77-d725-330b-008840ede41d   \n",
       "9    person  3e96a1fd-5de2-f855-69a9-1f95cb68c4f3   \n",
       "10   person  224bde41-0786-e4b5-b6ce-8c15d6fe649f   \n",
       "11  article  99e3abef-2e13-d2ca-035f-77ef7d98882f   \n",
       "12  article  ae9e9b1f-ddd7-a7cb-fbe2-6ec37aaf55f7   \n",
       "13  article  650e3cc9-7870-35c8-22ad-6477980c8adb   \n",
       "14  article  2b1ce4cf-a0cc-04a3-c7ed-e3f022e0a70e   \n",
       "15  article  a4d2c496-9e09-200b-ce52-7d9c8350b34e   \n",
       "16  article  7982b430-9ef5-c5d1-9639-0ed8b93d095d   \n",
       "17  article  6902a5f4-7706-fb0c-2418-7ca3703671fd   \n",
       "18  article  3c19f757-0fb5-4da6-4149-8afb1373d505   \n",
       "19  article  c0d44bb0-1f8b-f6ec-b61f-ceccfc472228   \n",
       "20  article  c3f6f459-d9eb-9510-86b0-12451835d1f2   \n",
       "21  article  2cd8752f-44c2-8e3e-ac9e-a6d0971c9bfb   \n",
       "\n",
       "                            id_16bytes  \\\n",
       "0   0x4539a771bcd9ed6826f0606bca156df5   \n",
       "1   0xfe5d42e3cbd47a6a283426f5672de4e5   \n",
       "2   0x57ec1e3536d839e05f7a730049153bd9   \n",
       "3   0x7baeb22aab1d6e38f2a57813cfd93b36   \n",
       "4   0xd53cb1c5d20defa5aa9742d105fd3689   \n",
       "5   0x6d966513a60b2250ed540d5df28e8950   \n",
       "6   0x0b3ecfc09fbd2277fd74df8101590467   \n",
       "7   0x736fa33109f5d15974da2432c417cc92   \n",
       "8   0xf4686f068c77d725330b008840ede41d   \n",
       "9   0x3e96a1fd5de2f85569a91f95cb68c4f3   \n",
       "10  0x224bde410786e4b5b6ce8c15d6fe649f   \n",
       "11  0x99e3abef2e13d2ca035f77ef7d98882f   \n",
       "12  0xae9e9b1fddd7a7cbfbe26ec37aaf55f7   \n",
       "13  0x650e3cc9787035c822ad6477980c8adb   \n",
       "14  0x2b1ce4cfa0cc04a3c7ede3f022e0a70e   \n",
       "15  0xa4d2c4969e09200bce527d9c8350b34e   \n",
       "16  0x7982b4309ef5c5d196390ed8b93d095d   \n",
       "17  0x6902a5f47706fb0c24187ca3703671fd   \n",
       "18  0x3c19f7570fb54da641498afb1373d505   \n",
       "19  0xc0d44bb01f8bf6ecb61fceccfc472228   \n",
       "20  0xc3f6f459d9eb951086b012451835d1f2   \n",
       "21  0x2cd8752f44c28e3eac9ea6d0971c9bfb   \n",
       "\n",
       "                                                 desc  \n",
       "0                              SOUZA, JOÃO BATISTA DE  \n",
       "1                        LIMA, VICTOR HUGO MOREIRA DE  \n",
       "2                     CONFESSOR, MAINE VIRGÍNIA ALVES  \n",
       "3             MASCARANHAS, ROSIMARY RAMOS DE OLIVEIRA  \n",
       "4                     ALVES, RAFAEL MACHADO DE ARAÚJO  \n",
       "5                                   OGATA, IGOR SOUZA  \n",
       "6                     ANSELMO, MARIA DA GLÓRIA VIEIRA  \n",
       "7                                NERY, JANIELE FRANÇA  \n",
       "8                              PÊ, PATRÍCIA RODRIGUES  \n",
       "9                          FREIRE, VITÓRIA DE ANDRADE  \n",
       "10                          ARAÚJO NETO, CLÁUDIO LUIS  \n",
       "11  http://dspace.bc.uepb.edu.br/jspui/handle/1234...  \n",
       "12  http://dspace.bc.uepb.edu.br/jspui/handle/1234...  \n",
       "13  http://dspace.bc.uepb.edu.br/jspui/handle/1234...  \n",
       "14  http://dspace.bc.uepb.edu.br/jspui/handle/1234...  \n",
       "15  http://dspace.bc.uepb.edu.br/jspui/handle/1234...  \n",
       "16  http://dspace.bc.uepb.edu.br/jspui/handle/1234...  \n",
       "17  http://dspace.bc.uepb.edu.br/jspui/handle/1234...  \n",
       "18  http://dspace.bc.uepb.edu.br/jspui/handle/1234...  \n",
       "19  http://dspace.bc.uepb.edu.br/jspui/handle/1234...  \n",
       "20  http://dspace.bc.uepb.edu.br/jspui/handle/1234...  \n",
       "21  http://dspace.bc.uepb.edu.br/jspui/handle/1234...  "
      ]
     },
     "execution_count": 42,
     "metadata": {},
     "output_type": "execute_result"
    }
   ],
   "source": [
    "summary(author_db,item_db)"
   ]
  },
  {
   "cell_type": "markdown",
   "metadata": {},
   "source": [
    "## w3"
   ]
  }
 ],
 "metadata": {
  "interpreter": {
   "hash": "3205a0140dd6f24c0dd9edd5546dd90f7a596f2328c4e733fa92c4954d87b72e"
  },
  "kernelspec": {
   "display_name": "Python 3.8.10 ('web3')",
   "language": "python",
   "name": "python3"
  },
  "language_info": {
   "codemirror_mode": {
    "name": "ipython",
    "version": 3
   },
   "file_extension": ".py",
   "mimetype": "text/x-python",
   "name": "python",
   "nbconvert_exporter": "python",
   "pygments_lexer": "ipython3",
   "version": "3.8.10"
  },
  "orig_nbformat": 4
 },
 "nbformat": 4,
 "nbformat_minor": 2
}
