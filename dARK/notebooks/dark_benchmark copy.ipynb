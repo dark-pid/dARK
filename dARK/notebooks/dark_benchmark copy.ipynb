{
 "cells": [
  {
   "attachments": {},
   "cell_type": "markdown",
   "metadata": {},
   "source": [
    "# Description"
   ]
  },
  {
   "attachments": {},
   "cell_type": "markdown",
   "metadata": {},
   "source": [
    "Data dictnionary\n",
    "\n",
    "- id : o id do documento no Oasisbr\n",
    "- oai_identifier_str : id externo que vem do repositório de origem\n",
    "- instname_str : nome da instituição de origem\n",
    "- instacron_str : acrônimo da instituição de origem\n",
    "- network_acronym_str : acrônimo da rede de origem (pode descartar)\n",
    "- network_name_str : nome da rede origem (pode descartar)\n",
    "- title : título\n",
    "- author : autores\n",
    "- publishDate  : data da publicação\n",
    "- format : tipo de documento (article, masterThesis, doctoralThesis, …)\n",
    "- description : abstract\n",
    "- topic : keywords\n",
    "- language : idioma do documento\n",
    "- eu_rights_str_mv : tipo de acesso (openAccess, closed, …)\n",
    "- url : url externa para o documento"
   ]
  },
  {
   "attachments": {},
   "cell_type": "markdown",
   "metadata": {},
   "source": [
    "# Input Data"
   ]
  },
  {
   "attachments": {},
   "cell_type": "markdown",
   "metadata": {},
   "source": [
    "## json"
   ]
  },
  {
   "cell_type": "code",
   "execution_count": null,
   "metadata": {},
   "outputs": [],
   "source": [
    "import pandas as pd\n",
    "import json\n",
    "from zipfile import ZipFile\n",
    "import ijson #ijson-3.1.4\n",
    "\n",
    "infile = '/mnt/d/ibict/oasisbr/oasisbr_1.zip'"
   ]
  },
  {
   "cell_type": "code",
   "execution_count": null,
   "metadata": {},
   "outputs": [],
   "source": [
    "# import ujson #ujson-5.6.0\n",
    "# with open(infile) as f:\n",
    "#     file_contents = ujson.load(f)"
   ]
  },
  {
   "attachments": {},
   "cell_type": "markdown",
   "metadata": {},
   "source": [
    "metodo 0"
   ]
  },
  {
   "cell_type": "code",
   "execution_count": null,
   "metadata": {},
   "outputs": [],
   "source": [
    "sel = []\n",
    "with ZipFile(infile, 'r') as archive:\n",
    "    file = archive.namelist()[0]\n",
    "    with archive.open(file) as f:\n",
    "        for record in ijson.items(f, \"response.docs.item\"):\n",
    "            try:\n",
    "                if record['instacron_str'] == \"UEPB\":\n",
    "                    sel.append(record)\n",
    "            except:\n",
    "                pass\n",
    "            break\n"
   ]
  },
  {
   "cell_type": "code",
   "execution_count": null,
   "metadata": {},
   "outputs": [],
   "source": [
    "#  'title': 'Germination test and ornamental potential of different basil cultivars (Ocimum spp.)',\n",
    "#  'author': ['França,Matheus Filipe de Moraes Sousa'],\n",
    "#  'topic': ['Ocimum basilicum',\n",
    "#   'Ocimum minimum',\n",
    "#   'ornamental gardening',\n",
    "#   'landscaping',\n",
    "#   'ornamental edible plants'],\n",
    "# 'url': ['http://www.scielo.br/scielo.php?script=sci_arttext&pid=S2447-536X2017000400385'],"
   ]
  },
  {
   "cell_type": "code",
   "execution_count": null,
   "metadata": {},
   "outputs": [],
   "source": [
    "record"
   ]
  },
  {
   "cell_type": "code",
   "execution_count": null,
   "metadata": {},
   "outputs": [],
   "source": [
    "# df = pd.DataFrame.from_dict(sel)\n",
    "# df['format'].unique()\n",
    "# df[df.format != ['masterThesis']]\n",
    "# df.format.values[0]"
   ]
  },
  {
   "attachments": {},
   "cell_type": "markdown",
   "metadata": {},
   "source": [
    "metodo 1"
   ]
  },
  {
   "attachments": {},
   "cell_type": "markdown",
   "metadata": {},
   "source": [
    "# Blockchain Operations"
   ]
  },
  {
   "cell_type": "code",
   "execution_count": 1,
   "metadata": {},
   "outputs": [],
   "source": [
    "import sys\n",
    "import os\n",
    "\n",
    "import requests\n",
    "import json\n",
    "\n",
    "import pandas as pd\n",
    "\n",
    "from web3 import Web3\n",
    "\n",
    "# SCRIPT_DIR = os.path.dirname(os.path.abspath('__file__'))\n",
    "PROJECT_DIR = os.path.dirname(os.path.abspath(''))\n",
    "sys.path.append(os.path.dirname(PROJECT_DIR))\n",
    "\n",
    "from pyDpi.util import setup\n",
    "from pyDpi.util.libs import invoke_contract_experimental"
   ]
  },
  {
   "attachments": {},
   "cell_type": "markdown",
   "metadata": {},
   "source": [
    "## enviroment setup"
   ]
  },
  {
   "attachments": {},
   "cell_type": "markdown",
   "metadata": {},
   "source": [
    "services init"
   ]
  },
  {
   "cell_type": "code",
   "execution_count": null,
   "metadata": {},
   "outputs": [],
   "source": [
    "w3 = setup.load_blockchain_driver()\n",
    "deployed_contracts = setup.load_deployed_smart_contracts(w3)\n",
    "dpid_db = deployed_contracts['PidDB.sol']\n",
    "epid_db = deployed_contracts['ExternalPidDB.sol']\n",
    "auth_db = deployed_contracts['AuthoritiesDB.sol']\n",
    "\n",
    "dpid_service = deployed_contracts['PIDService.sol']\n",
    "epid_service = deployed_contracts['ExternalPIDService.sol']\n",
    "sets_service = deployed_contracts['SearchTermService.sol']\n",
    "auth_service = deployed_contracts['AuthoritiesService.sol']\n",
    "\n",
    "\n",
    "chain_id,min_gas_price,pk = setup.get_exec_parameters()\n",
    "account = w3.eth.account.privateKeyToAccount(pk)"
   ]
  },
  {
   "attachments": {},
   "cell_type": "markdown",
   "metadata": {},
   "source": [
    "variables"
   ]
  },
  {
   "cell_type": "code",
   "execution_count": null,
   "metadata": {},
   "outputs": [],
   "source": [
    "nam = '8003'\n",
    "ror_id = '3wf3'\n",
    "addr = '0xf17f52151EbEF6C7334FAD080c5704D77216b732' \n",
    "dshoulder_prefix = 'fkwf'   "
   ]
  },
  {
   "attachments": {},
   "cell_type": "markdown",
   "metadata": {},
   "source": [
    "dnma setup"
   ]
  },
  {
   "cell_type": "code",
   "execution_count": null,
   "metadata": {},
   "outputs": [],
   "source": [
    "recipt_tx, est_gas = invoke_contract_experimental(w3,account,chain_id, auth_service , 'create_dnam', ror_id , dshoulder_prefix, addr)\n",
    "auth_id = recipt_tx['logs'][0]['topics'][1]\n",
    "auth_id"
   ]
  },
  {
   "cell_type": "code",
   "execution_count": null,
   "metadata": {},
   "outputs": [],
   "source": [
    "auth_db.caller.count_dnma()\n",
    "Web3.toHex( auth_db.caller.get_dnma_by_index(0) ) # converte o indice 0 \n",
    "msg = \"DecentralizedNameMappingAuthority :: {} [ ror={} , shoulder_prefix={} ]\".format(auth_db.caller.get_dnma(auth_id)[-1],\n",
    "                                                                                        auth_db.caller.get_dnma(auth_id)[1],\n",
    "                                                                                        auth_db.caller.get_dnma(auth_id)[1])\n",
    "\n",
    "msg"
   ]
  },
  {
   "attachments": {},
   "cell_type": "markdown",
   "metadata": {},
   "source": [
    "configura o noid_provider da autoridade\n",
    " - nam ( ibict 8003)\n",
    " - addr da autho\n",
    " - noid_len : tamanho do noid\n",
    " - type (1 - dnma, 2 - sma)"
   ]
  },
  {
   "cell_type": "code",
   "execution_count": null,
   "metadata": {},
   "outputs": [],
   "source": [
    "noid_len = 5\n",
    "\n",
    "r_tx = invoke_contract(w3,account,chain_id, auth_service , 'configure_noid_provider_dnma', nam, auth_id , noid_len , 1)\n",
    "noid_addr = r_tx['logs'][0]['topics'][1][12:]\n",
    "noid_addr # endereco do contrato"
   ]
  },
  {
   "attachments": {},
   "cell_type": "markdown",
   "metadata": {},
   "source": [
    "## run"
   ]
  },
  {
   "cell_type": "code",
   "execution_count": null,
   "metadata": {},
   "outputs": [],
   "source": [
    "addr =  \"0xf17f52151EbEF6C7334FAD080c5704D77216b732\" #from setup"
   ]
  },
  {
   "attachments": {},
   "cell_type": "markdown",
   "metadata": {},
   "source": [
    "create ark"
   ]
  },
  {
   "cell_type": "code",
   "execution_count": null,
   "metadata": {},
   "outputs": [],
   "source": [
    "r_tx = invoke_contract_experimental(w3,account,chain_id, dpid_service , 'assingID', addr)\n",
    "dark_id = r_tx['logs'][0]['topics'][1]\n",
    "dark_id"
   ]
  },
  {
   "cell_type": "code",
   "execution_count": null,
   "metadata": {},
   "outputs": [],
   "source": [
    "dpid_db.caller.get(dark_id)[1]"
   ]
  },
  {
   "attachments": {},
   "cell_type": "markdown",
   "metadata": {},
   "source": [
    "### create metadata"
   ]
  },
  {
   "attachments": {},
   "cell_type": "markdown",
   "metadata": {},
   "source": [
    "search term"
   ]
  },
  {
   "cell_type": "code",
   "execution_count": null,
   "metadata": {},
   "outputs": [],
   "source": [
    "r_tx = invoke_contract(w3,account,chain_id, dpid_service, 'addSearchTerm',dark_id ,'DARK')\n",
    "r_tx = invoke_contract(w3,account,chain_id, dpid_service, 'addSearchTerm',dark_id, 'ARK')"
   ]
  },
  {
   "attachments": {},
   "cell_type": "markdown",
   "metadata": {},
   "source": [
    "external link"
   ]
  },
  {
   "cell_type": "code",
   "execution_count": null,
   "metadata": {},
   "outputs": [],
   "source": [
    "r_tx, est_gas = invoke_contract_experimental(w3,account,chain_id, dpid_service, 'add_externalLinks',dark_id, 'https://doi.org/10.1016/j.is.2021.101826') "
   ]
  },
  {
   "attachments": {},
   "cell_type": "markdown",
   "metadata": {},
   "source": [
    "payload"
   ]
  },
  {
   "cell_type": "code",
   "execution_count": null,
   "metadata": {},
   "outputs": [],
   "source": [
    "payload_data = { 'title' : 'Blockchain-based Privacy-Preserving Record Linkage: enhancing data privacy in an untrusted environment.' ,\n",
    "                 'author' : 'Thiago Nóbrega',\n",
    "                 'type' : 'Article'\n",
    "            }\n",
    "\n",
    "\n",
    "r_tx, est_gas = invoke_contract_experimental(w3,account,chain_id, dpid_service, 'set_payload',dark_id, str(payload_data)) "
   ]
  },
  {
   "cell_type": "code",
   "execution_count": null,
   "metadata": {},
   "outputs": [],
   "source": [
    "sys.getsizeof(str(payload_data)),sys.getsizeof(payload_data)"
   ]
  },
  {
   "cell_type": "code",
   "execution_count": null,
   "metadata": {},
   "outputs": [],
   "source": []
  }
 ],
 "metadata": {
  "kernelspec": {
   "display_name": "web3",
   "language": "python",
   "name": "python3"
  },
  "language_info": {
   "codemirror_mode": {
    "name": "ipython",
    "version": 3
   },
   "file_extension": ".py",
   "mimetype": "text/x-python",
   "name": "python",
   "nbconvert_exporter": "python",
   "pygments_lexer": "ipython3",
   "version": "3.8.10 (default, Mar 15 2022, 12:22:08) \n[GCC 9.4.0]"
  },
  "orig_nbformat": 4,
  "vscode": {
   "interpreter": {
    "hash": "c91f20dc1331e7acc5efc61f998b89bef11f2e0e5670d0b5404021aacd673267"
   }
  }
 },
 "nbformat": 4,
 "nbformat_minor": 2
}
