{
 "cells": [
  {
   "attachments": {},
   "cell_type": "markdown",
   "metadata": {},
   "source": [
    "# Description"
   ]
  },
  {
   "attachments": {},
   "cell_type": "markdown",
   "metadata": {},
   "source": [
    "Data dictnionary\n",
    "\n",
    "- id : o id do documento no Oasisbr\n",
    "- oai_identifier_str : id externo que vem do repositório de origem\n",
    "- instname_str : nome da instituição de origem\n",
    "- instacron_str : acrônimo da instituição de origem\n",
    "- network_acronym_str : acrônimo da rede de origem (pode descartar)\n",
    "- network_name_str : nome da rede origem (pode descartar)\n",
    "- title : título\n",
    "- author : autores\n",
    "- publishDate  : data da publicação\n",
    "- format : tipo de documento (article, masterThesis, doctoralThesis, …)\n",
    "- description : abstract\n",
    "- topic : keywords\n",
    "- language : idioma do documento\n",
    "- eu_rights_str_mv : tipo de acesso (openAccess, closed, …)\n",
    "- url : url externa para o documento"
   ]
  },
  {
   "cell_type": "code",
   "execution_count": 133,
   "metadata": {},
   "outputs": [],
   "source": [
    "# general\n",
    "import sys\n",
    "import os\n",
    "import logging\n",
    "import time\n",
    "\n",
    "# read json\n",
    "from zipfile import ZipFile\n",
    "import ijson #ijson-3.1.4\n",
    "import pandas as pd\n",
    "# web3\n",
    "import requests\n",
    "import json\n",
    "\n",
    "from hexbytes import HexBytes\n",
    "from web3 import Web3\n",
    "\n",
    "# SCRIPT_DIR = os.path.dirname(os.path.abspath('__file__'))\n",
    "PROJECT_DIR = os.path.dirname(os.path.abspath(''))\n",
    "sys.path.append(os.path.dirname(PROJECT_DIR))\n",
    "\n",
    "from dARK.util import setup\n",
    "from dARK.util.libs import invoke_contract_experimental"
   ]
  },
  {
   "attachments": {},
   "cell_type": "markdown",
   "metadata": {},
   "source": [
    "# Experiment"
   ]
  },
  {
   "attachments": {},
   "cell_type": "markdown",
   "metadata": {},
   "source": [
    "## setup"
   ]
  },
  {
   "cell_type": "code",
   "execution_count": 49,
   "metadata": {},
   "outputs": [],
   "source": [
    "# logging.basicConfig(filename='myapp.log', level=logging.INFO)\n",
    "# logging.basicConfig(level=logging.INFO)"
   ]
  },
  {
   "attachments": {},
   "cell_type": "markdown",
   "metadata": {},
   "source": [
    "input file"
   ]
  },
  {
   "cell_type": "code",
   "execution_count": 50,
   "metadata": {},
   "outputs": [],
   "source": [
    "infile = '/mnt/d/ibict/oasisbr/oasisbr_1.zip'"
   ]
  },
  {
   "attachments": {},
   "cell_type": "markdown",
   "metadata": {},
   "source": [
    "bc"
   ]
  },
  {
   "cell_type": "code",
   "execution_count": 51,
   "metadata": {},
   "outputs": [],
   "source": [
    "addr = '0xf17f52151EbEF6C7334FAD080c5704D77216b732'  #from setup\n",
    "auth_id = '0x47be0ba38f0ab57d6469dedd62c007b4605d000efe0ceeade9696543076c59bc'\n",
    "auth_id = Web3.toBytes(HexBytes(auth_id))\n",
    "# import ujson #ujson-5.6.0\n",
    "# with open(infile) as f:\n",
    "#     file_contents = ujson.load(f)"
   ]
  },
  {
   "attachments": {},
   "cell_type": "markdown",
   "metadata": {},
   "source": [
    "##  metoodo 0"
   ]
  },
  {
   "cell_type": "code",
   "execution_count": 52,
   "metadata": {},
   "outputs": [
    {
     "name": "stdout",
     "output_type": "stream",
     "text": [
      "/mnt/d/ibict/workspace/dARK_limits/dark/config.ini\n"
     ]
    }
   ],
   "source": [
    "w3 = setup.load_blockchain_driver()\n",
    "deployed_contracts = setup.load_deployed_smart_contracts(w3)\n",
    "dpid_db = deployed_contracts['PidDB.sol']\n",
    "epid_db = deployed_contracts['ExternalPidDB.sol']\n",
    "auth_db = deployed_contracts['AuthoritiesDB.sol']\n",
    "\n",
    "dpid_service = deployed_contracts['PIDService.sol']\n",
    "epid_service = deployed_contracts['ExternalPIDService.sol']\n",
    "sets_service = deployed_contracts['SearchTermService.sol']\n",
    "auth_service = deployed_contracts['AuthoritiesService.sol']\n",
    "\n",
    "\n",
    "chain_id,min_gas_price,pk = setup.get_exec_parameters()\n",
    "account = w3.eth.account.privateKeyToAccount(pk)"
   ]
  },
  {
   "cell_type": "code",
   "execution_count": 139,
   "metadata": {},
   "outputs": [
    {
     "name": "stdout",
     "output_type": "stream",
     "text": [
      "DNMA number :: 1\n",
      "\t DNMA :: 0x47be0ba38f0ab57d6469dedd62c007b4605d000efe0ceeade9696543076c59bc\n"
     ]
    },
    {
     "data": {
      "text/plain": [
       "'   DecentralizedNameMappingAuthority :: 0xf17f52151EbEF6C7334FAD080c5704D77216b732 [ ror=3wf3 , shoulder_prefix=fkwf ]'"
      ]
     },
     "execution_count": 139,
     "metadata": {},
     "output_type": "execute_result"
    }
   ],
   "source": [
    "print(\"DNMA number :: \" + str(auth_db.caller.count_dnma()))\n",
    "print(\"\\t DNMA :: \" + Web3.toHex(auth_db.caller.get_dnma_by_index(0) ) ) # converte o indice 0 \n",
    "\n",
    "msg = \"   DecentralizedNameMappingAuthority :: {} [ ror={} , shoulder_prefix={} ]\".format(auth_db.caller.get_dnma(auth_id)[-1],\n",
    "                                                                                        auth_db.caller.get_dnma(auth_id)[1],\n",
    "                                                                                        auth_db.caller.get_dnma(auth_id)[2])\n",
    "\n",
    "msg"
   ]
  },
  {
   "cell_type": "code",
   "execution_count": 141,
   "metadata": {},
   "outputs": [],
   "source": [
    "def read_metadata(record):\n",
    "    #reading metadata\n",
    "    title = record['title']\n",
    "    \n",
    "    try:\n",
    "        authors = record['author']\n",
    "    except KeyError:\n",
    "        authors = []\n",
    "    try:\n",
    "        topics = record['topic']\n",
    "    except KeyError:\n",
    "        topics = []\n",
    "    try:\n",
    "        url = record['url'][0]\n",
    "    except KeyError:\n",
    "        url = \"\"\n",
    "    try:\n",
    "        publishDate = record['publishDate'][0]\n",
    "    except KeyError:\n",
    "        publishDate = \"\"\n",
    "    try:\n",
    "        format = record['format'][0]\n",
    "    except KeyError:\n",
    "        format = \"\"\n",
    "\n",
    "    return title, authors, topics, publishDate , url, publishDate, format\n",
    "\n",
    "def create_payload(title, authors, publishDate, format):\n",
    "    # pl_authors = \"\"\n",
    "    # for i in range(len(authors)):\n",
    "    #     if i > 0:\n",
    "    #         pl_authors += \";\" + authors[i]\n",
    "    #     else:\n",
    "    #         pl_authors += authors[i]\n",
    "                \n",
    "    payload = {\n",
    "                            \"title\": title,\n",
    "                            \"authors\": str(authors),\n",
    "                            \"format\": format,\n",
    "                            \"publishDate\" : publishDate\n",
    "                }\n",
    "    \n",
    "    # if len(authors) > 1:\n",
    "    # print(authors)\n",
    "    \n",
    "    return payload"
   ]
  },
  {
   "cell_type": "code",
   "execution_count": 142,
   "metadata": {},
   "outputs": [],
   "source": [
    "sel = []\n",
    "count = 0\n",
    "\n",
    "# record['id'],payload_size, num_authors, num_topics, action , gas , time\n",
    "experimental_data = []\n",
    "\n",
    "with ZipFile(infile, 'r') as archive:\n",
    "    file = archive.namelist()[0]\n",
    "    with archive.open(file) as f:\n",
    "        for record in ijson.items(f, \"response.docs.item\"):\n",
    "            try:\n",
    "                # if record['instacron_str'] == \"UEPB\":\n",
    "                #     sel.append(record)\n",
    "\n",
    "                title, authors, topics, publishDate , url, publishDate, format = read_metadata(record)\n",
    "                \n",
    "                payload = create_payload(title, authors, publishDate, format)\n",
    "                payload_size = sys.getsizeof(str(payload))\n",
    "                num_authors = len(authors)\n",
    "                num_topics = len(topics)\n",
    "\n",
    "                base_row = [record['id'],payload_size, num_authors, num_topics]\n",
    "\n",
    "                #assing id\n",
    "                # this is a critical operation mus be fast\n",
    "                start_time = time.time()\n",
    "                r_tx, gas = invoke_contract_experimental(w3,account,chain_id, dpid_service , 'assingID', addr)\n",
    "                dark_id = r_tx['logs'][0]['topics'][1]\n",
    "                delta = time.time() - start_time\n",
    "                \n",
    "                experimental_row = base_row.copy()\n",
    "                experimental_row.append('assingID') #action\n",
    "                experimental_row.append(gas)        #gas\n",
    "                experimental_row.append(delta)      #detla time\n",
    "                experimental_data.append(experimental_row)\n",
    "\n",
    "                #addSearchTerm\n",
    "                # assyncronous operation\n",
    "                for st in topics:\n",
    "                    start_time = time.time()\n",
    "                    r_tx, gas = invoke_contract_experimental(w3,account,chain_id, dpid_service, 'addSearchTerm',dark_id, st)\n",
    "                    delta = time.time() - start_time\n",
    "                    experimental_row = base_row.copy()\n",
    "                    experimental_row.append('addSearchTerm') #action\n",
    "                    experimental_row.append(gas)        #gas\n",
    "                    experimental_row.append(delta)      #detla time\n",
    "                    experimental_data.append(experimental_row)\n",
    "                \n",
    "                #addUrl\n",
    "                try:\n",
    "                    if len(url) > 4:\n",
    "                        start_time = time.time()\n",
    "                        r_tx, est_gas = invoke_contract_experimental(w3,account,chain_id, dpid_service, 'add_externalLinks',dark_id, url) \n",
    "                        delta = time.time() - start_time\n",
    "                        experimental_row = base_row.copy()\n",
    "                        experimental_row.append('addExternalLink') #action\n",
    "                        experimental_row.append(gas)        #gas\n",
    "                        experimental_row.append(delta)      #detla time\n",
    "                        experimental_data.append(experimental_row)\n",
    "                except:\n",
    "                    logging.error(\"record with with duplicated url id=[{}]\".format(record['id']))\n",
    "                \n",
    "\n",
    "                #set_payload\n",
    "                start_time = time.time()\n",
    "                r_tx, est_gas = invoke_contract_experimental(w3,account,chain_id, dpid_service, 'set_payload',dark_id, str(payload))\n",
    "                delta = time.time() - start_time\n",
    "                \n",
    "                experimental_row = base_row.copy()\n",
    "                experimental_row.append('setPayload') #action\n",
    "                experimental_row.append(gas)        #gas\n",
    "                experimental_row.append(delta)      #detla time\n",
    "                experimental_data.append(experimental_row)                \n",
    "                # r_tx, est_gas = invoke_contract_experimental(w3,account,chain_id, dpid_service, 'set_payload',dark_id, str(payload_data)) \n",
    "                \n",
    "\n",
    "                \n",
    "\n",
    "            except KeyError:\n",
    "                logging.error(\"record with no title id=[{}]\".format(record['id']))\n",
    "            # except:\n",
    "            #     pass\n",
    "            \n",
    "            if count > 5:\n",
    "                break\n",
    "            count+=1\n"
   ]
  },
  {
   "cell_type": "code",
   "execution_count": 144,
   "metadata": {},
   "outputs": [],
   "source": [
    "# sel[20:30]\n",
    "# recors\n",
    "# authors[0]\n",
    "# url\n",
    "df = pd.DataFrame(experimental_data)\n",
    "df.columns = [ 'id','payload_len', 'num_authors', 'num_topics', 'action' , 'gas' , 'time']"
   ]
  },
  {
   "attachments": {},
   "cell_type": "markdown",
   "metadata": {},
   "source": [
    "DataFrame attributes\n",
    "- **id** : oasis id\n",
    "- **payload_len**: payload length iin bytes\n",
    "- **num_authors** : number of authors\n",
    "- **num_topics** : number of topics (search keys)\n",
    "- **action** : actioin  performed\n",
    "  - assingID : Assing a ark PID to an object\n",
    "  - addSearchTerm : index the PID by a search term (topic)\n",
    "  - addExternalLink: add link to the object\n",
    "  - setPayload : set the payload\n",
    "- **gas** : gas spend to execute the action\n",
    "- **time** : time to execute the action"
   ]
  },
  {
   "cell_type": "code",
   "execution_count": 150,
   "metadata": {},
   "outputs": [
    {
     "data": {
      "text/html": [
       "<div>\n",
       "<style scoped>\n",
       "    .dataframe tbody tr th:only-of-type {\n",
       "        vertical-align: middle;\n",
       "    }\n",
       "\n",
       "    .dataframe tbody tr th {\n",
       "        vertical-align: top;\n",
       "    }\n",
       "\n",
       "    .dataframe thead th {\n",
       "        text-align: right;\n",
       "    }\n",
       "</style>\n",
       "<table border=\"1\" class=\"dataframe\">\n",
       "  <thead>\n",
       "    <tr style=\"text-align: right;\">\n",
       "      <th></th>\n",
       "      <th>id</th>\n",
       "      <th>payload_len</th>\n",
       "      <th>num_authors</th>\n",
       "      <th>num_topics</th>\n",
       "      <th>action</th>\n",
       "      <th>gas</th>\n",
       "      <th>time</th>\n",
       "    </tr>\n",
       "  </thead>\n",
       "  <tbody>\n",
       "    <tr>\n",
       "      <th>0</th>\n",
       "      <td>SBFPO-1_2fc1e8de0c870ff98b611a99775aa6ec</td>\n",
       "      <td>270</td>\n",
       "      <td>1</td>\n",
       "      <td>5</td>\n",
       "      <td>assingID</td>\n",
       "      <td>288587</td>\n",
       "      <td>2.039148</td>\n",
       "    </tr>\n",
       "    <tr>\n",
       "      <th>1</th>\n",
       "      <td>SBFPO-1_2fc1e8de0c870ff98b611a99775aa6ec</td>\n",
       "      <td>270</td>\n",
       "      <td>1</td>\n",
       "      <td>5</td>\n",
       "      <td>addSearchTerm</td>\n",
       "      <td>304586</td>\n",
       "      <td>2.392351</td>\n",
       "    </tr>\n",
       "    <tr>\n",
       "      <th>2</th>\n",
       "      <td>SBFPO-1_2fc1e8de0c870ff98b611a99775aa6ec</td>\n",
       "      <td>270</td>\n",
       "      <td>1</td>\n",
       "      <td>5</td>\n",
       "      <td>addSearchTerm</td>\n",
       "      <td>287043</td>\n",
       "      <td>5.440978</td>\n",
       "    </tr>\n",
       "    <tr>\n",
       "      <th>3</th>\n",
       "      <td>SBFPO-1_2fc1e8de0c870ff98b611a99775aa6ec</td>\n",
       "      <td>270</td>\n",
       "      <td>1</td>\n",
       "      <td>5</td>\n",
       "      <td>addSearchTerm</td>\n",
       "      <td>296184</td>\n",
       "      <td>1.996337</td>\n",
       "    </tr>\n",
       "    <tr>\n",
       "      <th>4</th>\n",
       "      <td>SBFPO-1_2fc1e8de0c870ff98b611a99775aa6ec</td>\n",
       "      <td>270</td>\n",
       "      <td>1</td>\n",
       "      <td>5</td>\n",
       "      <td>addSearchTerm</td>\n",
       "      <td>288825</td>\n",
       "      <td>2.013809</td>\n",
       "    </tr>\n",
       "  </tbody>\n",
       "</table>\n",
       "</div>"
      ],
      "text/plain": [
       "                                         id  payload_len  num_authors  \\\n",
       "0  SBFPO-1_2fc1e8de0c870ff98b611a99775aa6ec          270            1   \n",
       "1  SBFPO-1_2fc1e8de0c870ff98b611a99775aa6ec          270            1   \n",
       "2  SBFPO-1_2fc1e8de0c870ff98b611a99775aa6ec          270            1   \n",
       "3  SBFPO-1_2fc1e8de0c870ff98b611a99775aa6ec          270            1   \n",
       "4  SBFPO-1_2fc1e8de0c870ff98b611a99775aa6ec          270            1   \n",
       "\n",
       "   num_topics         action     gas      time  \n",
       "0           5       assingID  288587  2.039148  \n",
       "1           5  addSearchTerm  304586  2.392351  \n",
       "2           5  addSearchTerm  287043  5.440978  \n",
       "3           5  addSearchTerm  296184  1.996337  \n",
       "4           5  addSearchTerm  288825  2.013809  "
      ]
     },
     "execution_count": 150,
     "metadata": {},
     "output_type": "execute_result"
    }
   ],
   "source": [
    "df.head(5)"
   ]
  },
  {
   "cell_type": "code",
   "execution_count": 156,
   "metadata": {},
   "outputs": [
    {
     "data": {
      "text/plain": [
       "23.12476352282933"
      ]
     },
     "execution_count": 156,
     "metadata": {},
     "output_type": "execute_result"
    }
   ],
   "source": [
    "df.groupby('id').sum().time.mean()"
   ]
  },
  {
   "cell_type": "code",
   "execution_count": null,
   "metadata": {},
   "outputs": [],
   "source": []
  }
 ],
 "metadata": {
  "kernelspec": {
   "display_name": "web3",
   "language": "python",
   "name": "python3"
  },
  "language_info": {
   "codemirror_mode": {
    "name": "ipython",
    "version": 3
   },
   "file_extension": ".py",
   "mimetype": "text/x-python",
   "name": "python",
   "nbconvert_exporter": "python",
   "pygments_lexer": "ipython3",
   "version": "3.8.10"
  },
  "orig_nbformat": 4,
  "vscode": {
   "interpreter": {
    "hash": "c91f20dc1331e7acc5efc61f998b89bef11f2e0e5670d0b5404021aacd673267"
   }
  }
 },
 "nbformat": 4,
 "nbformat_minor": 2
}
