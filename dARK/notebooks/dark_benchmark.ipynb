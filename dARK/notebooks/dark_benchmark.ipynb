{
 "cells": [
  {
   "attachments": {},
   "cell_type": "markdown",
   "metadata": {},
   "source": [
    "# Description"
   ]
  },
  {
   "attachments": {},
   "cell_type": "markdown",
   "metadata": {},
   "source": [
    "Data dictnionary\n",
    "\n",
    "- id : o id do documento no Oasisbr\n",
    "- oai_identifier_str : id externo que vem do repositório de origem\n",
    "- instname_str : nome da instituição de origem\n",
    "- instacron_str : acrônimo da instituição de origem\n",
    "- network_acronym_str : acrônimo da rede de origem (pode descartar)\n",
    "- network_name_str : nome da rede origem (pode descartar)\n",
    "- title : título\n",
    "- author : autores\n",
    "- publishDate  : data da publicação\n",
    "- format : tipo de documento (article, masterThesis, doctoralThesis, …)\n",
    "- description : abstract\n",
    "- topic : keywords\n",
    "- language : idioma do documento\n",
    "- eu_rights_str_mv : tipo de acesso (openAccess, closed, …)\n",
    "- url : url externa para o documento"
   ]
  },
  {
   "cell_type": "code",
   "execution_count": 1,
   "metadata": {},
   "outputs": [],
   "source": [
    "# general\n",
    "import sys\n",
    "import os\n",
    "import logging\n",
    "import time\n",
    "\n",
    "# read json\n",
    "from zipfile import ZipFile\n",
    "import ijson #ijson-3.1.4\n",
    "import pandas as pd\n",
    "# web3\n",
    "import requests\n",
    "import json\n",
    "\n",
    "from hexbytes import HexBytes\n",
    "from web3 import Web3\n",
    "\n",
    "# SCRIPT_DIR = os.path.dirname(os.path.abspath('__file__'))\n",
    "PROJECT_DIR = os.path.dirname(os.path.abspath(''))\n",
    "sys.path.append(os.path.dirname(PROJECT_DIR))\n",
    "\n",
    "from dARK.util import setup\n",
    "from dARK.util.libs import invoke_contract_experimental"
   ]
  },
  {
   "attachments": {},
   "cell_type": "markdown",
   "metadata": {},
   "source": [
    "# Experiment"
   ]
  },
  {
   "attachments": {},
   "cell_type": "markdown",
   "metadata": {},
   "source": [
    "## setup"
   ]
  },
  {
   "cell_type": "code",
   "execution_count": 2,
   "metadata": {},
   "outputs": [],
   "source": [
    "# logging.basicConfig(filename='myapp.log', level=logging.INFO)\n",
    "# logging.basicConfig(level=logging.INFO)"
   ]
  },
  {
   "attachments": {},
   "cell_type": "markdown",
   "metadata": {},
   "source": [
    "input file"
   ]
  },
  {
   "cell_type": "code",
   "execution_count": 3,
   "metadata": {},
   "outputs": [],
   "source": [
    "infile = '/mnt/d/ibict/oasisbr/oasisbr_1.zip'\n",
    "# infile = '/home/thiagonobrega/oasisbr_1.zip'"
   ]
  },
  {
   "attachments": {},
   "cell_type": "markdown",
   "metadata": {},
   "source": [
    "bc"
   ]
  },
  {
   "cell_type": "code",
   "execution_count": 5,
   "metadata": {},
   "outputs": [],
   "source": [
    "addr = '0xb5ccb24b6e4e1079e838df14d32e9ecb7bf6f8bb'  #from setup // 0x1defd7a2383e3f2d4d89ac7c8e836ea6a1dcded7 / 0xb5ccb24b6e4e1079e838df14d32e9ecb7bf6f8bb\n",
    "auth_id = '0x47be0ba38f0ab57d6469dedd62c007b4605d000efe0ceeade9696543076c59bc'\n",
    "auth_id = Web3.toBytes(HexBytes(auth_id))\n",
    "# import ujson #ujson-5.6.0\n",
    "# with open(infile) as f:\n",
    "#     file_contents = ujson.load(f)"
   ]
  },
  {
   "attachments": {},
   "cell_type": "markdown",
   "metadata": {},
   "source": [
    "##  metoodo 0"
   ]
  },
  {
   "cell_type": "code",
   "execution_count": 6,
   "metadata": {},
   "outputs": [],
   "source": [
    "w3 = setup.load_blockchain_driver()\n",
    "deployed_contracts = setup.load_deployed_smart_contracts(w3)\n",
    "dpid_db = deployed_contracts['PidDB.sol']\n",
    "epid_db = deployed_contracts['ExternalPidDB.sol']\n",
    "auth_db = deployed_contracts['AuthoritiesDB.sol']\n",
    "\n",
    "dpid_service = deployed_contracts['PIDService.sol']\n",
    "epid_service = deployed_contracts['ExternalPIDService.sol']\n",
    "sets_service = deployed_contracts['SearchTermService.sol']\n",
    "auth_service = deployed_contracts['AuthoritiesService.sol']\n",
    "\n",
    "\n",
    "chain_id,min_gas_price,pk = setup.get_exec_parameters()\n",
    "account = w3.eth.account.privateKeyToAccount(pk)"
   ]
  },
  {
   "cell_type": "code",
   "execution_count": 7,
   "metadata": {},
   "outputs": [
    {
     "name": "stdout",
     "output_type": "stream",
     "text": [
      "DNMA number :: 1\n",
      "\t DNMA :: 0x47be0ba38f0ab57d6469dedd62c007b4605d000efe0ceeade9696543076c59bc\n"
     ]
    },
    {
     "data": {
      "text/plain": [
       "'   DecentralizedNameMappingAuthority :: 0xf17f52151EbEF6C7334FAD080c5704D77216b732 [ ror=3wf3 , shoulder_prefix=fkwf ]'"
      ]
     },
     "execution_count": 7,
     "metadata": {},
     "output_type": "execute_result"
    }
   ],
   "source": [
    "print(\"DNMA number :: \" + str(auth_db.caller.count_dnma()))\n",
    "print(\"\\t DNMA :: \" + Web3.toHex(auth_db.caller.get_dnma_by_index(0) ) ) # converte o indice 0 \n",
    "\n",
    "msg = \"   DecentralizedNameMappingAuthority :: {} [ ror={} , shoulder_prefix={} ]\".format(auth_db.caller.get_dnma(auth_id)[-1],\n",
    "                                                                                        auth_db.caller.get_dnma(auth_id)[1],\n",
    "                                                                                        auth_db.caller.get_dnma(auth_id)[2])\n",
    "\n",
    "msg"
   ]
  },
  {
   "cell_type": "code",
   "execution_count": 9,
   "metadata": {},
   "outputs": [],
   "source": [
    "def read_metadata(record):\n",
    "    #reading metadata\n",
    "    title = record['title']\n",
    "    \n",
    "    try:\n",
    "        authors = record['author']\n",
    "    except KeyError:\n",
    "        authors = []\n",
    "    try:\n",
    "        topics = record['topic']\n",
    "    except KeyError:\n",
    "        topics = []\n",
    "    try:\n",
    "        url = record['url'][0]\n",
    "    except KeyError:\n",
    "        url = \"\"\n",
    "    try:\n",
    "        publishDate = record['publishDate'][0]\n",
    "    except KeyError:\n",
    "        publishDate = \"\"\n",
    "    try:\n",
    "        format = record['format'][0]\n",
    "    except KeyError:\n",
    "        format = \"\"\n",
    "\n",
    "    return title, authors, topics, publishDate , url, publishDate, format\n",
    "\n",
    "def create_payload(title, authors, publishDate, format):\n",
    "    # pl_authors = \"\"\n",
    "    # for i in range(len(authors)):\n",
    "    #     if i > 0:\n",
    "    #         pl_authors += \";\" + authors[i]\n",
    "    #     else:\n",
    "    #         pl_authors += authors[i]\n",
    "                \n",
    "    payload = {\n",
    "                            \"title\": title,\n",
    "                            \"authors\": str(authors),\n",
    "                            \"format\": format,\n",
    "                            \"publishDate\" : publishDate\n",
    "                }\n",
    "    \n",
    "    # if len(authors) > 1:\n",
    "    # print(authors)\n",
    "    \n",
    "    return payload\n",
    "\n",
    "\n",
    "def du(folderpath='/home/thiagonobrega/env/nodes/besu01/data'):\n",
    "    size = 0\n",
    "    for path, dirs, files in os.walk(folderpath):\n",
    "        for f in files:\n",
    "            fp = os.path.join(path, f)\n",
    "            size += os.path.getsize(fp)\n",
    "\n",
    "    # display size\n",
    "    # print(\"Folder size: \" + str(size))\n",
    "    return size"
   ]
  },
  {
   "cell_type": "code",
   "execution_count": 10,
   "metadata": {},
   "outputs": [
    {
     "name": "stdout",
     "output_type": "stream",
     "text": [
      "::::::: INIT DATA LEN :::::::: > 0\n"
     ]
    }
   ],
   "source": [
    "node1_init_data_len = du()\n",
    "print(\"::::::: INIT DATA LEN :::::::: > \" + str(node1_init_data_len))"
   ]
  },
  {
   "cell_type": "code",
   "execution_count": 20,
   "metadata": {},
   "outputs": [],
   "source": [
    "addr = '0xf17f52151EbEF6C7334FAD080c5704D77216b732'  #from setup // 0x1defd7a2383e3f2d4d89ac7c8e836ea6a1dcded7 / 0xb5ccb24b6e4e1079e838df14d32e9ecb7bf6f8bb\n",
    "auth_id = '0x47be0ba38f0ab57d6469dedd62c007b4605d000efe0ceeade9696543076c59bc'\n",
    "auth_id = Web3.toBytes(HexBytes(auth_id))"
   ]
  },
  {
   "cell_type": "code",
   "execution_count": 23,
   "metadata": {},
   "outputs": [
    {
     "ename": "KeyboardInterrupt",
     "evalue": "",
     "output_type": "error",
     "traceback": [
      "\u001b[0;31m---------------------------------------------------------------------------\u001b[0m",
      "\u001b[0;31mKeyboardInterrupt\u001b[0m                         Traceback (most recent call last)",
      "\u001b[1;32m/mnt/d/ibict/workspace/dARK_limits/dark/dARK/notebooks/dark_benchmark.ipynb Cell 17\u001b[0m in \u001b[0;36m<cell line: 9>\u001b[0;34m()\u001b[0m\n\u001b[1;32m     <a href='vscode-notebook-cell://wsl%2Bubuntu-20.04/mnt/d/ibict/workspace/dARK_limits/dark/dARK/notebooks/dark_benchmark.ipynb#X21sdnNjb2RlLXJlbW90ZQ%3D%3D?line=41'>42</a>\u001b[0m \u001b[39mfor\u001b[39;00m st \u001b[39min\u001b[39;00m topics:\n\u001b[1;32m     <a href='vscode-notebook-cell://wsl%2Bubuntu-20.04/mnt/d/ibict/workspace/dARK_limits/dark/dARK/notebooks/dark_benchmark.ipynb#X21sdnNjb2RlLXJlbW90ZQ%3D%3D?line=42'>43</a>\u001b[0m     start_time \u001b[39m=\u001b[39m time\u001b[39m.\u001b[39mtime()\n\u001b[0;32m---> <a href='vscode-notebook-cell://wsl%2Bubuntu-20.04/mnt/d/ibict/workspace/dARK_limits/dark/dARK/notebooks/dark_benchmark.ipynb#X21sdnNjb2RlLXJlbW90ZQ%3D%3D?line=43'>44</a>\u001b[0m     r_tx, gas \u001b[39m=\u001b[39m invoke_contract_experimental(w3,account,chain_id, dpid_service, \u001b[39m'\u001b[39;49m\u001b[39maddSearchTerm\u001b[39;49m\u001b[39m'\u001b[39;49m,dark_id, st)\n\u001b[1;32m     <a href='vscode-notebook-cell://wsl%2Bubuntu-20.04/mnt/d/ibict/workspace/dARK_limits/dark/dARK/notebooks/dark_benchmark.ipynb#X21sdnNjb2RlLXJlbW90ZQ%3D%3D?line=44'>45</a>\u001b[0m     delta \u001b[39m=\u001b[39m time\u001b[39m.\u001b[39mtime() \u001b[39m-\u001b[39m start_time\n\u001b[1;32m     <a href='vscode-notebook-cell://wsl%2Bubuntu-20.04/mnt/d/ibict/workspace/dARK_limits/dark/dARK/notebooks/dark_benchmark.ipynb#X21sdnNjb2RlLXJlbW90ZQ%3D%3D?line=45'>46</a>\u001b[0m     experimental_row \u001b[39m=\u001b[39m base_row\u001b[39m.\u001b[39mcopy()\n",
      "File \u001b[0;32m/mnt/d/ibict/workspace/dARK_limits/dark/dARK/util/libs.py:202\u001b[0m, in \u001b[0;36minvoke_contract_experimental\u001b[0;34m(w3, account, chain_id, smart_contract, method, *args)\u001b[0m\n\u001b[1;32m    200\u001b[0m \u001b[39m# send the transaction\u001b[39;00m\n\u001b[1;32m    201\u001b[0m tx_hash \u001b[39m=\u001b[39m w3\u001b[39m.\u001b[39meth\u001b[39m.\u001b[39msendRawTransaction(signed_tx\u001b[39m.\u001b[39mrawTransaction)\n\u001b[0;32m--> 202\u001b[0m receipt \u001b[39m=\u001b[39m w3\u001b[39m.\u001b[39;49meth\u001b[39m.\u001b[39;49mwait_for_transaction_receipt(tx_hash)\n\u001b[1;32m    203\u001b[0m \u001b[39mreturn\u001b[39;00m receipt , est_gas\n",
      "File \u001b[0;32m~/pyenvs/web3/lib/python3.8/site-packages/web3/eth.py:778\u001b[0m, in \u001b[0;36mEth.wait_for_transaction_receipt\u001b[0;34m(self, transaction_hash, timeout, poll_latency)\u001b[0m\n\u001b[1;32m    776\u001b[0m \u001b[39mwhile\u001b[39;00m \u001b[39mTrue\u001b[39;00m:\n\u001b[1;32m    777\u001b[0m     \u001b[39mtry\u001b[39;00m:\n\u001b[0;32m--> 778\u001b[0m         tx_receipt \u001b[39m=\u001b[39m \u001b[39mself\u001b[39;49m\u001b[39m.\u001b[39;49m_get_transaction_receipt(transaction_hash)\n\u001b[1;32m    779\u001b[0m     \u001b[39mexcept\u001b[39;00m TransactionNotFound:\n\u001b[1;32m    780\u001b[0m         tx_receipt \u001b[39m=\u001b[39m \u001b[39mNone\u001b[39;00m\n",
      "File \u001b[0;32m~/pyenvs/web3/lib/python3.8/site-packages/web3/module.py:57\u001b[0m, in \u001b[0;36mretrieve_blocking_method_call_fn.<locals>.caller\u001b[0;34m(*args, **kwargs)\u001b[0m\n\u001b[1;32m     55\u001b[0m     \u001b[39mreturn\u001b[39;00m LogFilter(eth_module\u001b[39m=\u001b[39mmodule, filter_id\u001b[39m=\u001b[39merr\u001b[39m.\u001b[39mfilter_id)\n\u001b[1;32m     56\u001b[0m result_formatters, error_formatters, null_result_formatters \u001b[39m=\u001b[39m response_formatters\n\u001b[0;32m---> 57\u001b[0m result \u001b[39m=\u001b[39m w3\u001b[39m.\u001b[39;49mmanager\u001b[39m.\u001b[39;49mrequest_blocking(method_str,\n\u001b[1;32m     58\u001b[0m                                      params,\n\u001b[1;32m     59\u001b[0m                                      error_formatters,\n\u001b[1;32m     60\u001b[0m                                      null_result_formatters)\n\u001b[1;32m     61\u001b[0m \u001b[39mreturn\u001b[39;00m apply_result_formatters(result_formatters, result)\n",
      "File \u001b[0;32m~/pyenvs/web3/lib/python3.8/site-packages/web3/manager.py:197\u001b[0m, in \u001b[0;36mRequestManager.request_blocking\u001b[0;34m(self, method, params, error_formatters, null_result_formatters)\u001b[0m\n\u001b[1;32m    187\u001b[0m \u001b[39mdef\u001b[39;00m \u001b[39mrequest_blocking\u001b[39m(\n\u001b[1;32m    188\u001b[0m     \u001b[39mself\u001b[39m,\n\u001b[1;32m    189\u001b[0m     method: Union[RPCEndpoint, Callable[\u001b[39m.\u001b[39m\u001b[39m.\u001b[39m\u001b[39m.\u001b[39m, RPCEndpoint]],\n\u001b[0;32m   (...)\u001b[0m\n\u001b[1;32m    192\u001b[0m     null_result_formatters: Optional[Callable[\u001b[39m.\u001b[39m\u001b[39m.\u001b[39m\u001b[39m.\u001b[39m, Any]] \u001b[39m=\u001b[39m \u001b[39mNone\u001b[39;00m,\n\u001b[1;32m    193\u001b[0m ) \u001b[39m-\u001b[39m\u001b[39m>\u001b[39m Any:\n\u001b[1;32m    194\u001b[0m     \u001b[39m\"\"\"\u001b[39;00m\n\u001b[1;32m    195\u001b[0m \u001b[39m    Make a synchronous request using the provider\u001b[39;00m\n\u001b[1;32m    196\u001b[0m \u001b[39m    \"\"\"\u001b[39;00m\n\u001b[0;32m--> 197\u001b[0m     response \u001b[39m=\u001b[39m \u001b[39mself\u001b[39;49m\u001b[39m.\u001b[39;49m_make_request(method, params)\n\u001b[1;32m    198\u001b[0m     \u001b[39mreturn\u001b[39;00m \u001b[39mself\u001b[39m\u001b[39m.\u001b[39mformatted_response(response,\n\u001b[1;32m    199\u001b[0m                                    params,\n\u001b[1;32m    200\u001b[0m                                    error_formatters,\n\u001b[1;32m    201\u001b[0m                                    null_result_formatters)\n",
      "File \u001b[0;32m~/pyenvs/web3/lib/python3.8/site-packages/web3/manager.py:150\u001b[0m, in \u001b[0;36mRequestManager._make_request\u001b[0;34m(self, method, params)\u001b[0m\n\u001b[1;32m    146\u001b[0m request_func \u001b[39m=\u001b[39m \u001b[39mself\u001b[39m\u001b[39m.\u001b[39mprovider\u001b[39m.\u001b[39mrequest_func(\n\u001b[1;32m    147\u001b[0m     \u001b[39mself\u001b[39m\u001b[39m.\u001b[39mweb3,\n\u001b[1;32m    148\u001b[0m     \u001b[39mself\u001b[39m\u001b[39m.\u001b[39mmiddleware_onion)\n\u001b[1;32m    149\u001b[0m \u001b[39mself\u001b[39m\u001b[39m.\u001b[39mlogger\u001b[39m.\u001b[39mdebug(\u001b[39m\"\u001b[39m\u001b[39mMaking request. Method: \u001b[39m\u001b[39m%s\u001b[39;00m\u001b[39m\"\u001b[39m, method)\n\u001b[0;32m--> 150\u001b[0m \u001b[39mreturn\u001b[39;00m request_func(method, params)\n",
      "File \u001b[0;32m~/pyenvs/web3/lib/python3.8/site-packages/web3/middleware/formatting.py:94\u001b[0m, in \u001b[0;36mconstruct_web3_formatting_middleware.<locals>.formatter_middleware.<locals>.middleware\u001b[0;34m(method, params)\u001b[0m\n\u001b[1;32m     92\u001b[0m     formatter \u001b[39m=\u001b[39m request_formatters[method]\n\u001b[1;32m     93\u001b[0m     params \u001b[39m=\u001b[39m formatter(params)\n\u001b[0;32m---> 94\u001b[0m response \u001b[39m=\u001b[39m make_request(method, params)\n\u001b[1;32m     96\u001b[0m \u001b[39mreturn\u001b[39;00m _apply_response_formatters(method\u001b[39m=\u001b[39mmethod, response\u001b[39m=\u001b[39mresponse, \u001b[39m*\u001b[39m\u001b[39m*\u001b[39mformatters)\n",
      "File \u001b[0;32m~/pyenvs/web3/lib/python3.8/site-packages/web3/middleware/gas_price_strategy.py:90\u001b[0m, in \u001b[0;36mgas_price_strategy_middleware.<locals>.middleware\u001b[0;34m(method, params)\u001b[0m\n\u001b[1;32m     86\u001b[0m     transaction \u001b[39m=\u001b[39m validate_transaction_params(\n\u001b[1;32m     87\u001b[0m         transaction, latest_block, generated_gas_price\n\u001b[1;32m     88\u001b[0m     )\n\u001b[1;32m     89\u001b[0m     \u001b[39mreturn\u001b[39;00m make_request(method, (transaction,))\n\u001b[0;32m---> 90\u001b[0m \u001b[39mreturn\u001b[39;00m make_request(method, params)\n",
      "File \u001b[0;32m~/pyenvs/web3/lib/python3.8/site-packages/web3/middleware/formatting.py:94\u001b[0m, in \u001b[0;36mconstruct_web3_formatting_middleware.<locals>.formatter_middleware.<locals>.middleware\u001b[0;34m(method, params)\u001b[0m\n\u001b[1;32m     92\u001b[0m     formatter \u001b[39m=\u001b[39m request_formatters[method]\n\u001b[1;32m     93\u001b[0m     params \u001b[39m=\u001b[39m formatter(params)\n\u001b[0;32m---> 94\u001b[0m response \u001b[39m=\u001b[39m make_request(method, params)\n\u001b[1;32m     96\u001b[0m \u001b[39mreturn\u001b[39;00m _apply_response_formatters(method\u001b[39m=\u001b[39mmethod, response\u001b[39m=\u001b[39mresponse, \u001b[39m*\u001b[39m\u001b[39m*\u001b[39mformatters)\n",
      "File \u001b[0;32m~/pyenvs/web3/lib/python3.8/site-packages/web3/middleware/attrdict.py:33\u001b[0m, in \u001b[0;36mattrdict_middleware.<locals>.middleware\u001b[0;34m(method, params)\u001b[0m\n\u001b[1;32m     32\u001b[0m \u001b[39mdef\u001b[39;00m \u001b[39mmiddleware\u001b[39m(method: RPCEndpoint, params: Any) \u001b[39m-\u001b[39m\u001b[39m>\u001b[39m RPCResponse:\n\u001b[0;32m---> 33\u001b[0m     response \u001b[39m=\u001b[39m make_request(method, params)\n\u001b[1;32m     35\u001b[0m     \u001b[39mif\u001b[39;00m \u001b[39m'\u001b[39m\u001b[39mresult\u001b[39m\u001b[39m'\u001b[39m \u001b[39min\u001b[39;00m response:\n\u001b[1;32m     36\u001b[0m         result \u001b[39m=\u001b[39m response[\u001b[39m'\u001b[39m\u001b[39mresult\u001b[39m\u001b[39m'\u001b[39m]\n",
      "File \u001b[0;32m~/pyenvs/web3/lib/python3.8/site-packages/web3/middleware/formatting.py:94\u001b[0m, in \u001b[0;36mconstruct_web3_formatting_middleware.<locals>.formatter_middleware.<locals>.middleware\u001b[0;34m(method, params)\u001b[0m\n\u001b[1;32m     92\u001b[0m     formatter \u001b[39m=\u001b[39m request_formatters[method]\n\u001b[1;32m     93\u001b[0m     params \u001b[39m=\u001b[39m formatter(params)\n\u001b[0;32m---> 94\u001b[0m response \u001b[39m=\u001b[39m make_request(method, params)\n\u001b[1;32m     96\u001b[0m \u001b[39mreturn\u001b[39;00m _apply_response_formatters(method\u001b[39m=\u001b[39mmethod, response\u001b[39m=\u001b[39mresponse, \u001b[39m*\u001b[39m\u001b[39m*\u001b[39mformatters)\n",
      "File \u001b[0;32m~/pyenvs/web3/lib/python3.8/site-packages/web3/middleware/formatting.py:94\u001b[0m, in \u001b[0;36mconstruct_web3_formatting_middleware.<locals>.formatter_middleware.<locals>.middleware\u001b[0;34m(method, params)\u001b[0m\n\u001b[1;32m     92\u001b[0m     formatter \u001b[39m=\u001b[39m request_formatters[method]\n\u001b[1;32m     93\u001b[0m     params \u001b[39m=\u001b[39m formatter(params)\n\u001b[0;32m---> 94\u001b[0m response \u001b[39m=\u001b[39m make_request(method, params)\n\u001b[1;32m     96\u001b[0m \u001b[39mreturn\u001b[39;00m _apply_response_formatters(method\u001b[39m=\u001b[39mmethod, response\u001b[39m=\u001b[39mresponse, \u001b[39m*\u001b[39m\u001b[39m*\u001b[39mformatters)\n",
      "File \u001b[0;32m~/pyenvs/web3/lib/python3.8/site-packages/web3/middleware/formatting.py:94\u001b[0m, in \u001b[0;36mconstruct_web3_formatting_middleware.<locals>.formatter_middleware.<locals>.middleware\u001b[0;34m(method, params)\u001b[0m\n\u001b[1;32m     92\u001b[0m     formatter \u001b[39m=\u001b[39m request_formatters[method]\n\u001b[1;32m     93\u001b[0m     params \u001b[39m=\u001b[39m formatter(params)\n\u001b[0;32m---> 94\u001b[0m response \u001b[39m=\u001b[39m make_request(method, params)\n\u001b[1;32m     96\u001b[0m \u001b[39mreturn\u001b[39;00m _apply_response_formatters(method\u001b[39m=\u001b[39mmethod, response\u001b[39m=\u001b[39mresponse, \u001b[39m*\u001b[39m\u001b[39m*\u001b[39mformatters)\n",
      "File \u001b[0;32m~/pyenvs/web3/lib/python3.8/site-packages/web3/middleware/buffered_gas_estimate.py:40\u001b[0m, in \u001b[0;36mbuffered_gas_estimate_middleware.<locals>.middleware\u001b[0;34m(method, params)\u001b[0m\n\u001b[1;32m     34\u001b[0m         transaction \u001b[39m=\u001b[39m assoc(\n\u001b[1;32m     35\u001b[0m             transaction,\n\u001b[1;32m     36\u001b[0m             \u001b[39m'\u001b[39m\u001b[39mgas\u001b[39m\u001b[39m'\u001b[39m,\n\u001b[1;32m     37\u001b[0m             \u001b[39mhex\u001b[39m(get_buffered_gas_estimate(web3, transaction)),\n\u001b[1;32m     38\u001b[0m         )\n\u001b[1;32m     39\u001b[0m         \u001b[39mreturn\u001b[39;00m make_request(method, [transaction])\n\u001b[0;32m---> 40\u001b[0m \u001b[39mreturn\u001b[39;00m make_request(method, params)\n",
      "File \u001b[0;32m~/pyenvs/web3/lib/python3.8/site-packages/web3/middleware/formatting.py:94\u001b[0m, in \u001b[0;36mconstruct_web3_formatting_middleware.<locals>.formatter_middleware.<locals>.middleware\u001b[0;34m(method, params)\u001b[0m\n\u001b[1;32m     92\u001b[0m     formatter \u001b[39m=\u001b[39m request_formatters[method]\n\u001b[1;32m     93\u001b[0m     params \u001b[39m=\u001b[39m formatter(params)\n\u001b[0;32m---> 94\u001b[0m response \u001b[39m=\u001b[39m make_request(method, params)\n\u001b[1;32m     96\u001b[0m \u001b[39mreturn\u001b[39;00m _apply_response_formatters(method\u001b[39m=\u001b[39mmethod, response\u001b[39m=\u001b[39mresponse, \u001b[39m*\u001b[39m\u001b[39m*\u001b[39mformatters)\n",
      "File \u001b[0;32m~/pyenvs/web3/lib/python3.8/site-packages/web3/middleware/exception_retry_request.py:105\u001b[0m, in \u001b[0;36mexception_retry_middleware.<locals>.middleware\u001b[0;34m(method, params)\u001b[0m\n\u001b[1;32m    103\u001b[0m \u001b[39mfor\u001b[39;00m i \u001b[39min\u001b[39;00m \u001b[39mrange\u001b[39m(retries):\n\u001b[1;32m    104\u001b[0m     \u001b[39mtry\u001b[39;00m:\n\u001b[0;32m--> 105\u001b[0m         \u001b[39mreturn\u001b[39;00m make_request(method, params)\n\u001b[1;32m    106\u001b[0m     \u001b[39m# https://github.com/python/mypy/issues/5349\u001b[39;00m\n\u001b[1;32m    107\u001b[0m     \u001b[39mexcept\u001b[39;00m errors:  \u001b[39m# type: ignore\u001b[39;00m\n",
      "File \u001b[0;32m~/pyenvs/web3/lib/python3.8/site-packages/web3/providers/rpc.py:88\u001b[0m, in \u001b[0;36mHTTPProvider.make_request\u001b[0;34m(self, method, params)\u001b[0m\n\u001b[1;32m     85\u001b[0m \u001b[39mself\u001b[39m\u001b[39m.\u001b[39mlogger\u001b[39m.\u001b[39mdebug(\u001b[39m\"\u001b[39m\u001b[39mMaking request HTTP. URI: \u001b[39m\u001b[39m%s\u001b[39;00m\u001b[39m, Method: \u001b[39m\u001b[39m%s\u001b[39;00m\u001b[39m\"\u001b[39m,\n\u001b[1;32m     86\u001b[0m                   \u001b[39mself\u001b[39m\u001b[39m.\u001b[39mendpoint_uri, method)\n\u001b[1;32m     87\u001b[0m request_data \u001b[39m=\u001b[39m \u001b[39mself\u001b[39m\u001b[39m.\u001b[39mencode_rpc_request(method, params)\n\u001b[0;32m---> 88\u001b[0m raw_response \u001b[39m=\u001b[39m make_post_request(\n\u001b[1;32m     89\u001b[0m     \u001b[39mself\u001b[39;49m\u001b[39m.\u001b[39;49mendpoint_uri,\n\u001b[1;32m     90\u001b[0m     request_data,\n\u001b[1;32m     91\u001b[0m     \u001b[39m*\u001b[39;49m\u001b[39m*\u001b[39;49m\u001b[39mself\u001b[39;49m\u001b[39m.\u001b[39;49mget_request_kwargs()\n\u001b[1;32m     92\u001b[0m )\n\u001b[1;32m     93\u001b[0m response \u001b[39m=\u001b[39m \u001b[39mself\u001b[39m\u001b[39m.\u001b[39mdecode_rpc_response(raw_response)\n\u001b[1;32m     94\u001b[0m \u001b[39mself\u001b[39m\u001b[39m.\u001b[39mlogger\u001b[39m.\u001b[39mdebug(\u001b[39m\"\u001b[39m\u001b[39mGetting response HTTP. URI: \u001b[39m\u001b[39m%s\u001b[39;00m\u001b[39m, \u001b[39m\u001b[39m\"\u001b[39m\n\u001b[1;32m     95\u001b[0m                   \u001b[39m\"\u001b[39m\u001b[39mMethod: \u001b[39m\u001b[39m%s\u001b[39;00m\u001b[39m, Response: \u001b[39m\u001b[39m%s\u001b[39;00m\u001b[39m\"\u001b[39m,\n\u001b[1;32m     96\u001b[0m                   \u001b[39mself\u001b[39m\u001b[39m.\u001b[39mendpoint_uri, method, response)\n",
      "File \u001b[0;32m~/pyenvs/web3/lib/python3.8/site-packages/web3/_utils/request.py:102\u001b[0m, in \u001b[0;36mmake_post_request\u001b[0;34m(endpoint_uri, data, *args, **kwargs)\u001b[0m\n\u001b[1;32m    100\u001b[0m session \u001b[39m=\u001b[39m _get_session(endpoint_uri)\n\u001b[1;32m    101\u001b[0m \u001b[39m# https://github.com/python/mypy/issues/2582\u001b[39;00m\n\u001b[0;32m--> 102\u001b[0m response \u001b[39m=\u001b[39m session\u001b[39m.\u001b[39;49mpost(endpoint_uri, data\u001b[39m=\u001b[39;49mdata, \u001b[39m*\u001b[39;49margs, \u001b[39m*\u001b[39;49m\u001b[39m*\u001b[39;49mkwargs)  \u001b[39m# type: ignore\u001b[39;00m\n\u001b[1;32m    103\u001b[0m response\u001b[39m.\u001b[39mraise_for_status()\n\u001b[1;32m    105\u001b[0m \u001b[39mreturn\u001b[39;00m response\u001b[39m.\u001b[39mcontent\n",
      "File \u001b[0;32m~/pyenvs/web3/lib/python3.8/site-packages/requests/sessions.py:577\u001b[0m, in \u001b[0;36mSession.post\u001b[0;34m(self, url, data, json, **kwargs)\u001b[0m\n\u001b[1;32m    566\u001b[0m \u001b[39mdef\u001b[39;00m \u001b[39mpost\u001b[39m(\u001b[39mself\u001b[39m, url, data\u001b[39m=\u001b[39m\u001b[39mNone\u001b[39;00m, json\u001b[39m=\u001b[39m\u001b[39mNone\u001b[39;00m, \u001b[39m*\u001b[39m\u001b[39m*\u001b[39mkwargs):\n\u001b[1;32m    567\u001b[0m     \u001b[39mr\u001b[39m\u001b[39m\"\"\"Sends a POST request. Returns :class:`Response` object.\u001b[39;00m\n\u001b[1;32m    568\u001b[0m \n\u001b[1;32m    569\u001b[0m \u001b[39m    :param url: URL for the new :class:`Request` object.\u001b[39;00m\n\u001b[0;32m   (...)\u001b[0m\n\u001b[1;32m    574\u001b[0m \u001b[39m    :rtype: requests.Response\u001b[39;00m\n\u001b[1;32m    575\u001b[0m \u001b[39m    \"\"\"\u001b[39;00m\n\u001b[0;32m--> 577\u001b[0m     \u001b[39mreturn\u001b[39;00m \u001b[39mself\u001b[39;49m\u001b[39m.\u001b[39;49mrequest(\u001b[39m'\u001b[39;49m\u001b[39mPOST\u001b[39;49m\u001b[39m'\u001b[39;49m, url, data\u001b[39m=\u001b[39;49mdata, json\u001b[39m=\u001b[39;49mjson, \u001b[39m*\u001b[39;49m\u001b[39m*\u001b[39;49mkwargs)\n",
      "File \u001b[0;32m~/pyenvs/web3/lib/python3.8/site-packages/requests/sessions.py:529\u001b[0m, in \u001b[0;36mSession.request\u001b[0;34m(self, method, url, params, data, headers, cookies, files, auth, timeout, allow_redirects, proxies, hooks, stream, verify, cert, json)\u001b[0m\n\u001b[1;32m    524\u001b[0m send_kwargs \u001b[39m=\u001b[39m {\n\u001b[1;32m    525\u001b[0m     \u001b[39m'\u001b[39m\u001b[39mtimeout\u001b[39m\u001b[39m'\u001b[39m: timeout,\n\u001b[1;32m    526\u001b[0m     \u001b[39m'\u001b[39m\u001b[39mallow_redirects\u001b[39m\u001b[39m'\u001b[39m: allow_redirects,\n\u001b[1;32m    527\u001b[0m }\n\u001b[1;32m    528\u001b[0m send_kwargs\u001b[39m.\u001b[39mupdate(settings)\n\u001b[0;32m--> 529\u001b[0m resp \u001b[39m=\u001b[39m \u001b[39mself\u001b[39;49m\u001b[39m.\u001b[39;49msend(prep, \u001b[39m*\u001b[39;49m\u001b[39m*\u001b[39;49msend_kwargs)\n\u001b[1;32m    531\u001b[0m \u001b[39mreturn\u001b[39;00m resp\n",
      "File \u001b[0;32m~/pyenvs/web3/lib/python3.8/site-packages/requests/sessions.py:645\u001b[0m, in \u001b[0;36mSession.send\u001b[0;34m(self, request, **kwargs)\u001b[0m\n\u001b[1;32m    642\u001b[0m start \u001b[39m=\u001b[39m preferred_clock()\n\u001b[1;32m    644\u001b[0m \u001b[39m# Send the request\u001b[39;00m\n\u001b[0;32m--> 645\u001b[0m r \u001b[39m=\u001b[39m adapter\u001b[39m.\u001b[39;49msend(request, \u001b[39m*\u001b[39;49m\u001b[39m*\u001b[39;49mkwargs)\n\u001b[1;32m    647\u001b[0m \u001b[39m# Total elapsed time of the request (approximately)\u001b[39;00m\n\u001b[1;32m    648\u001b[0m elapsed \u001b[39m=\u001b[39m preferred_clock() \u001b[39m-\u001b[39m start\n",
      "File \u001b[0;32m~/pyenvs/web3/lib/python3.8/site-packages/requests/adapters.py:440\u001b[0m, in \u001b[0;36mHTTPAdapter.send\u001b[0;34m(self, request, stream, timeout, verify, cert, proxies)\u001b[0m\n\u001b[1;32m    438\u001b[0m \u001b[39mtry\u001b[39;00m:\n\u001b[1;32m    439\u001b[0m     \u001b[39mif\u001b[39;00m \u001b[39mnot\u001b[39;00m chunked:\n\u001b[0;32m--> 440\u001b[0m         resp \u001b[39m=\u001b[39m conn\u001b[39m.\u001b[39;49murlopen(\n\u001b[1;32m    441\u001b[0m             method\u001b[39m=\u001b[39;49mrequest\u001b[39m.\u001b[39;49mmethod,\n\u001b[1;32m    442\u001b[0m             url\u001b[39m=\u001b[39;49murl,\n\u001b[1;32m    443\u001b[0m             body\u001b[39m=\u001b[39;49mrequest\u001b[39m.\u001b[39;49mbody,\n\u001b[1;32m    444\u001b[0m             headers\u001b[39m=\u001b[39;49mrequest\u001b[39m.\u001b[39;49mheaders,\n\u001b[1;32m    445\u001b[0m             redirect\u001b[39m=\u001b[39;49m\u001b[39mFalse\u001b[39;49;00m,\n\u001b[1;32m    446\u001b[0m             assert_same_host\u001b[39m=\u001b[39;49m\u001b[39mFalse\u001b[39;49;00m,\n\u001b[1;32m    447\u001b[0m             preload_content\u001b[39m=\u001b[39;49m\u001b[39mFalse\u001b[39;49;00m,\n\u001b[1;32m    448\u001b[0m             decode_content\u001b[39m=\u001b[39;49m\u001b[39mFalse\u001b[39;49;00m,\n\u001b[1;32m    449\u001b[0m             retries\u001b[39m=\u001b[39;49m\u001b[39mself\u001b[39;49m\u001b[39m.\u001b[39;49mmax_retries,\n\u001b[1;32m    450\u001b[0m             timeout\u001b[39m=\u001b[39;49mtimeout\n\u001b[1;32m    451\u001b[0m         )\n\u001b[1;32m    453\u001b[0m     \u001b[39m# Send the request.\u001b[39;00m\n\u001b[1;32m    454\u001b[0m     \u001b[39melse\u001b[39;00m:\n\u001b[1;32m    455\u001b[0m         \u001b[39mif\u001b[39;00m \u001b[39mhasattr\u001b[39m(conn, \u001b[39m'\u001b[39m\u001b[39mproxy_pool\u001b[39m\u001b[39m'\u001b[39m):\n",
      "File \u001b[0;32m~/pyenvs/web3/lib/python3.8/site-packages/urllib3/connectionpool.py:703\u001b[0m, in \u001b[0;36mHTTPConnectionPool.urlopen\u001b[0;34m(self, method, url, body, headers, retries, redirect, assert_same_host, timeout, pool_timeout, release_conn, chunked, body_pos, **response_kw)\u001b[0m\n\u001b[1;32m    700\u001b[0m     \u001b[39mself\u001b[39m\u001b[39m.\u001b[39m_prepare_proxy(conn)\n\u001b[1;32m    702\u001b[0m \u001b[39m# Make the request on the httplib connection object.\u001b[39;00m\n\u001b[0;32m--> 703\u001b[0m httplib_response \u001b[39m=\u001b[39m \u001b[39mself\u001b[39;49m\u001b[39m.\u001b[39;49m_make_request(\n\u001b[1;32m    704\u001b[0m     conn,\n\u001b[1;32m    705\u001b[0m     method,\n\u001b[1;32m    706\u001b[0m     url,\n\u001b[1;32m    707\u001b[0m     timeout\u001b[39m=\u001b[39;49mtimeout_obj,\n\u001b[1;32m    708\u001b[0m     body\u001b[39m=\u001b[39;49mbody,\n\u001b[1;32m    709\u001b[0m     headers\u001b[39m=\u001b[39;49mheaders,\n\u001b[1;32m    710\u001b[0m     chunked\u001b[39m=\u001b[39;49mchunked,\n\u001b[1;32m    711\u001b[0m )\n\u001b[1;32m    713\u001b[0m \u001b[39m# If we're going to release the connection in ``finally:``, then\u001b[39;00m\n\u001b[1;32m    714\u001b[0m \u001b[39m# the response doesn't need to know about the connection. Otherwise\u001b[39;00m\n\u001b[1;32m    715\u001b[0m \u001b[39m# it will also try to release it and we'll have a double-release\u001b[39;00m\n\u001b[1;32m    716\u001b[0m \u001b[39m# mess.\u001b[39;00m\n\u001b[1;32m    717\u001b[0m response_conn \u001b[39m=\u001b[39m conn \u001b[39mif\u001b[39;00m \u001b[39mnot\u001b[39;00m release_conn \u001b[39melse\u001b[39;00m \u001b[39mNone\u001b[39;00m\n",
      "File \u001b[0;32m~/pyenvs/web3/lib/python3.8/site-packages/urllib3/connectionpool.py:449\u001b[0m, in \u001b[0;36mHTTPConnectionPool._make_request\u001b[0;34m(self, conn, method, url, timeout, chunked, **httplib_request_kw)\u001b[0m\n\u001b[1;32m    444\u001b[0m             httplib_response \u001b[39m=\u001b[39m conn\u001b[39m.\u001b[39mgetresponse()\n\u001b[1;32m    445\u001b[0m         \u001b[39mexcept\u001b[39;00m \u001b[39mBaseException\u001b[39;00m \u001b[39mas\u001b[39;00m e:\n\u001b[1;32m    446\u001b[0m             \u001b[39m# Remove the TypeError from the exception chain in\u001b[39;00m\n\u001b[1;32m    447\u001b[0m             \u001b[39m# Python 3 (including for exceptions like SystemExit).\u001b[39;00m\n\u001b[1;32m    448\u001b[0m             \u001b[39m# Otherwise it looks like a bug in the code.\u001b[39;00m\n\u001b[0;32m--> 449\u001b[0m             six\u001b[39m.\u001b[39;49mraise_from(e, \u001b[39mNone\u001b[39;49;00m)\n\u001b[1;32m    450\u001b[0m \u001b[39mexcept\u001b[39;00m (SocketTimeout, BaseSSLError, SocketError) \u001b[39mas\u001b[39;00m e:\n\u001b[1;32m    451\u001b[0m     \u001b[39mself\u001b[39m\u001b[39m.\u001b[39m_raise_timeout(err\u001b[39m=\u001b[39me, url\u001b[39m=\u001b[39murl, timeout_value\u001b[39m=\u001b[39mread_timeout)\n",
      "File \u001b[0;32m<string>:3\u001b[0m, in \u001b[0;36mraise_from\u001b[0;34m(value, from_value)\u001b[0m\n",
      "File \u001b[0;32m~/pyenvs/web3/lib/python3.8/site-packages/urllib3/connectionpool.py:444\u001b[0m, in \u001b[0;36mHTTPConnectionPool._make_request\u001b[0;34m(self, conn, method, url, timeout, chunked, **httplib_request_kw)\u001b[0m\n\u001b[1;32m    441\u001b[0m \u001b[39mexcept\u001b[39;00m \u001b[39mTypeError\u001b[39;00m:\n\u001b[1;32m    442\u001b[0m     \u001b[39m# Python 3\u001b[39;00m\n\u001b[1;32m    443\u001b[0m     \u001b[39mtry\u001b[39;00m:\n\u001b[0;32m--> 444\u001b[0m         httplib_response \u001b[39m=\u001b[39m conn\u001b[39m.\u001b[39;49mgetresponse()\n\u001b[1;32m    445\u001b[0m     \u001b[39mexcept\u001b[39;00m \u001b[39mBaseException\u001b[39;00m \u001b[39mas\u001b[39;00m e:\n\u001b[1;32m    446\u001b[0m         \u001b[39m# Remove the TypeError from the exception chain in\u001b[39;00m\n\u001b[1;32m    447\u001b[0m         \u001b[39m# Python 3 (including for exceptions like SystemExit).\u001b[39;00m\n\u001b[1;32m    448\u001b[0m         \u001b[39m# Otherwise it looks like a bug in the code.\u001b[39;00m\n\u001b[1;32m    449\u001b[0m         six\u001b[39m.\u001b[39mraise_from(e, \u001b[39mNone\u001b[39;00m)\n",
      "File \u001b[0;32m/usr/lib/python3.8/http/client.py:1348\u001b[0m, in \u001b[0;36mHTTPConnection.getresponse\u001b[0;34m(self)\u001b[0m\n\u001b[1;32m   1346\u001b[0m \u001b[39mtry\u001b[39;00m:\n\u001b[1;32m   1347\u001b[0m     \u001b[39mtry\u001b[39;00m:\n\u001b[0;32m-> 1348\u001b[0m         response\u001b[39m.\u001b[39;49mbegin()\n\u001b[1;32m   1349\u001b[0m     \u001b[39mexcept\u001b[39;00m \u001b[39mConnectionError\u001b[39;00m:\n\u001b[1;32m   1350\u001b[0m         \u001b[39mself\u001b[39m\u001b[39m.\u001b[39mclose()\n",
      "File \u001b[0;32m/usr/lib/python3.8/http/client.py:316\u001b[0m, in \u001b[0;36mHTTPResponse.begin\u001b[0;34m(self)\u001b[0m\n\u001b[1;32m    314\u001b[0m \u001b[39m# read until we get a non-100 response\u001b[39;00m\n\u001b[1;32m    315\u001b[0m \u001b[39mwhile\u001b[39;00m \u001b[39mTrue\u001b[39;00m:\n\u001b[0;32m--> 316\u001b[0m     version, status, reason \u001b[39m=\u001b[39m \u001b[39mself\u001b[39;49m\u001b[39m.\u001b[39;49m_read_status()\n\u001b[1;32m    317\u001b[0m     \u001b[39mif\u001b[39;00m status \u001b[39m!=\u001b[39m CONTINUE:\n\u001b[1;32m    318\u001b[0m         \u001b[39mbreak\u001b[39;00m\n",
      "File \u001b[0;32m/usr/lib/python3.8/http/client.py:277\u001b[0m, in \u001b[0;36mHTTPResponse._read_status\u001b[0;34m(self)\u001b[0m\n\u001b[1;32m    276\u001b[0m \u001b[39mdef\u001b[39;00m \u001b[39m_read_status\u001b[39m(\u001b[39mself\u001b[39m):\n\u001b[0;32m--> 277\u001b[0m     line \u001b[39m=\u001b[39m \u001b[39mstr\u001b[39m(\u001b[39mself\u001b[39;49m\u001b[39m.\u001b[39;49mfp\u001b[39m.\u001b[39;49mreadline(_MAXLINE \u001b[39m+\u001b[39;49m \u001b[39m1\u001b[39;49m), \u001b[39m\"\u001b[39m\u001b[39miso-8859-1\u001b[39m\u001b[39m\"\u001b[39m)\n\u001b[1;32m    278\u001b[0m     \u001b[39mif\u001b[39;00m \u001b[39mlen\u001b[39m(line) \u001b[39m>\u001b[39m _MAXLINE:\n\u001b[1;32m    279\u001b[0m         \u001b[39mraise\u001b[39;00m LineTooLong(\u001b[39m\"\u001b[39m\u001b[39mstatus line\u001b[39m\u001b[39m\"\u001b[39m)\n",
      "File \u001b[0;32m/usr/lib/python3.8/socket.py:669\u001b[0m, in \u001b[0;36mSocketIO.readinto\u001b[0;34m(self, b)\u001b[0m\n\u001b[1;32m    667\u001b[0m \u001b[39mwhile\u001b[39;00m \u001b[39mTrue\u001b[39;00m:\n\u001b[1;32m    668\u001b[0m     \u001b[39mtry\u001b[39;00m:\n\u001b[0;32m--> 669\u001b[0m         \u001b[39mreturn\u001b[39;00m \u001b[39mself\u001b[39;49m\u001b[39m.\u001b[39;49m_sock\u001b[39m.\u001b[39;49mrecv_into(b)\n\u001b[1;32m    670\u001b[0m     \u001b[39mexcept\u001b[39;00m timeout:\n\u001b[1;32m    671\u001b[0m         \u001b[39mself\u001b[39m\u001b[39m.\u001b[39m_timeout_occurred \u001b[39m=\u001b[39m \u001b[39mTrue\u001b[39;00m\n",
      "\u001b[0;31mKeyboardInterrupt\u001b[0m: "
     ]
    }
   ],
   "source": [
    "sel = []\n",
    "count = 0\n",
    "start = 10000\n",
    "end = 10500\n",
    "\n",
    "# record['id'],payload_size, num_authors, num_topics, action , gas , time\n",
    "experimental_data = []\n",
    "\n",
    "with ZipFile(infile, 'r') as archive:\n",
    "    file = archive.namelist()[0]\n",
    "    with archive.open(file) as f:\n",
    "        for record in ijson.items(f, \"response.docs.item\"):\n",
    "            if count > start:\n",
    "                try:\n",
    "                    # if record['instacron_str'] == \"UEPB\":\n",
    "                    #     sel.append(record)\n",
    "\n",
    "                    title, authors, topics, publishDate , url, publishDate, format = read_metadata(record)\n",
    "                    \n",
    "                    payload = create_payload(title, authors, publishDate, format)\n",
    "                    payload_size = sys.getsizeof(str(payload))\n",
    "                    num_authors = len(authors)\n",
    "                    num_topics = len(topics)\n",
    "\n",
    "                    base_row = [record['id'],payload_size, num_authors, num_topics]\n",
    "\n",
    "                    #assing id\n",
    "                    # this is a critical operation mus be fast\n",
    "                    start_time = time.time()\n",
    "                    r_tx, gas = invoke_contract_experimental(w3,account,chain_id, dpid_service , 'assingID', addr)\n",
    "                    dark_id = r_tx['logs'][0]['topics'][1]\n",
    "                    delta = time.time() - start_time\n",
    "                    \n",
    "                    experimental_row = base_row.copy()\n",
    "                    experimental_row.append('assingID') #action\n",
    "                    experimental_row.append(gas)        #gas\n",
    "                    experimental_row.append(delta)      #detla time\n",
    "                    experimental_data.append(experimental_row)\n",
    "\n",
    "                    #addSearchTerm\n",
    "                    # assyncronous operation\n",
    "                    for st in topics:\n",
    "                        start_time = time.time()\n",
    "                        r_tx, gas = invoke_contract_experimental(w3,account,chain_id, dpid_service, 'addSearchTerm',dark_id, st)\n",
    "                        delta = time.time() - start_time\n",
    "                        experimental_row = base_row.copy()\n",
    "                        experimental_row.append('addSearchTerm') #action\n",
    "                        experimental_row.append(gas)        #gas\n",
    "                        experimental_row.append(delta)      #detla time\n",
    "                        experimental_data.append(experimental_row)\n",
    "                    \n",
    "                    #addUrl\n",
    "                    try:\n",
    "                        if len(url) > 4:\n",
    "                            start_time = time.time()\n",
    "                            r_tx, est_gas = invoke_contract_experimental(w3,account,chain_id, dpid_service, 'add_externalLinks',dark_id, url) \n",
    "                            delta = time.time() - start_time\n",
    "                            experimental_row = base_row.copy()\n",
    "                            experimental_row.append('addExternalLink') #action\n",
    "                            experimental_row.append(gas)        #gas\n",
    "                            experimental_row.append(delta)      #detla time\n",
    "                            experimental_data.append(experimental_row)\n",
    "                    except:\n",
    "                        logging.error(\"record with with duplicated url id=[{}]\".format(record['id']))\n",
    "                    \n",
    "\n",
    "                    #set_payload\n",
    "                    start_time = time.time()\n",
    "                    r_tx, est_gas = invoke_contract_experimental(w3,account,chain_id, dpid_service, 'set_payload',dark_id, str(payload))\n",
    "                    delta = time.time() - start_time\n",
    "                    \n",
    "                    experimental_row = base_row.copy()\n",
    "                    experimental_row.append('setPayload') #action\n",
    "                    experimental_row.append(gas)        #gas\n",
    "                    experimental_row.append(delta)      #detla time\n",
    "                    experimental_data.append(experimental_row)                \n",
    "                    # r_tx, est_gas = invoke_contract_experimental(w3,account,chain_id, dpid_service, 'set_payload',dark_id, str(payload_data)) \n",
    "                    \n",
    "\n",
    "                    \n",
    "\n",
    "                except KeyError:\n",
    "                    logging.error(\"record with no title id=[{}]\".format(record['id']))\n",
    "                # except:\n",
    "                #     pass\n",
    "            \n",
    "            if count >= end:\n",
    "                break\n",
    "            count+=1\n"
   ]
  },
  {
   "cell_type": "code",
   "execution_count": 24,
   "metadata": {},
   "outputs": [
    {
     "name": "stdout",
     "output_type": "stream",
     "text": [
      "::::::: FINAL LEN :::::::: > 0\n"
     ]
    }
   ],
   "source": [
    "node1_final_data_len = du()\n",
    "print(\"::::::: FINAL LEN :::::::: > \" + str(node1_final_data_len))\n"
   ]
  },
  {
   "cell_type": "code",
   "execution_count": 25,
   "metadata": {},
   "outputs": [],
   "source": [
    "# sel[20:30]\n",
    "# recors\n",
    "# authors[0]\n",
    "# url\n",
    "df = pd.DataFrame(experimental_data)\n",
    "df.columns = [ 'id','payload_len', 'num_authors', 'num_topics', 'action' , 'gas' , 'time']"
   ]
  },
  {
   "cell_type": "code",
   "execution_count": 26,
   "metadata": {},
   "outputs": [],
   "source": [
    "csv_name = \"resultado_oasisbr_1_\"+str(start)+\"_\"+str(end)+\".csv\"\n",
    "df.to_csv(csv_name)"
   ]
  },
  {
   "cell_type": "code",
   "execution_count": null,
   "metadata": {},
   "outputs": [
    {
     "name": "stdout",
     "output_type": "stream",
     "text": [
      "::::::: DIFF :::::::: > 0\n"
     ]
    }
   ],
   "source": [
    "print(\"::::::: DIFF :::::::: > \" + str(node1_final_data_len - node1_init_data_len))"
   ]
  },
  {
   "attachments": {},
   "cell_type": "markdown",
   "metadata": {},
   "source": [
    "DataFrame attributes\n",
    "- **id** : oasis id\n",
    "- **payload_len**: payload length iin bytes\n",
    "- **num_authors** : number of authors\n",
    "- **num_topics** : number of topics (search keys)\n",
    "- **action** : actioin  performed\n",
    "  - assingID : Assing a ark PID to an object\n",
    "  - addSearchTerm : index the PID by a search term (topic)\n",
    "  - addExternalLink: add link to the object\n",
    "  - setPayload : set the payload\n",
    "- **gas** : gas spend to execute the action\n",
    "- **time** : time to execute the action"
   ]
  },
  {
   "cell_type": "code",
   "execution_count": 27,
   "metadata": {},
   "outputs": [
    {
     "data": {
      "text/html": [
       "<div>\n",
       "<style scoped>\n",
       "    .dataframe tbody tr th:only-of-type {\n",
       "        vertical-align: middle;\n",
       "    }\n",
       "\n",
       "    .dataframe tbody tr th {\n",
       "        vertical-align: top;\n",
       "    }\n",
       "\n",
       "    .dataframe thead th {\n",
       "        text-align: right;\n",
       "    }\n",
       "</style>\n",
       "<table border=\"1\" class=\"dataframe\">\n",
       "  <thead>\n",
       "    <tr style=\"text-align: right;\">\n",
       "      <th></th>\n",
       "      <th>id</th>\n",
       "      <th>payload_len</th>\n",
       "      <th>num_authors</th>\n",
       "      <th>num_topics</th>\n",
       "      <th>action</th>\n",
       "      <th>gas</th>\n",
       "      <th>time</th>\n",
       "    </tr>\n",
       "  </thead>\n",
       "  <tbody>\n",
       "    <tr>\n",
       "      <th>0</th>\n",
       "      <td>IPEN_27d34f7a999266f43f3ae74461ca028c</td>\n",
       "      <td>219</td>\n",
       "      <td>1</td>\n",
       "      <td>9</td>\n",
       "      <td>assingID</td>\n",
       "      <td>253310</td>\n",
       "      <td>1.996515</td>\n",
       "    </tr>\n",
       "    <tr>\n",
       "      <th>1</th>\n",
       "      <td>IPEN_27d34f7a999266f43f3ae74461ca028c</td>\n",
       "      <td>219</td>\n",
       "      <td>1</td>\n",
       "      <td>9</td>\n",
       "      <td>addSearchTerm</td>\n",
       "      <td>292031</td>\n",
       "      <td>1.784559</td>\n",
       "    </tr>\n",
       "    <tr>\n",
       "      <th>2</th>\n",
       "      <td>IPEN_27d34f7a999266f43f3ae74461ca028c</td>\n",
       "      <td>219</td>\n",
       "      <td>1</td>\n",
       "      <td>9</td>\n",
       "      <td>addSearchTerm</td>\n",
       "      <td>199191</td>\n",
       "      <td>2.073971</td>\n",
       "    </tr>\n",
       "    <tr>\n",
       "      <th>3</th>\n",
       "      <td>IPEN_27d34f7a999266f43f3ae74461ca028c</td>\n",
       "      <td>219</td>\n",
       "      <td>1</td>\n",
       "      <td>9</td>\n",
       "      <td>addSearchTerm</td>\n",
       "      <td>284405</td>\n",
       "      <td>2.265674</td>\n",
       "    </tr>\n",
       "    <tr>\n",
       "      <th>4</th>\n",
       "      <td>IPEN_27d34f7a999266f43f3ae74461ca028c</td>\n",
       "      <td>219</td>\n",
       "      <td>1</td>\n",
       "      <td>9</td>\n",
       "      <td>addSearchTerm</td>\n",
       "      <td>281128</td>\n",
       "      <td>1.624342</td>\n",
       "    </tr>\n",
       "  </tbody>\n",
       "</table>\n",
       "</div>"
      ],
      "text/plain": [
       "                                      id  payload_len  num_authors  \\\n",
       "0  IPEN_27d34f7a999266f43f3ae74461ca028c          219            1   \n",
       "1  IPEN_27d34f7a999266f43f3ae74461ca028c          219            1   \n",
       "2  IPEN_27d34f7a999266f43f3ae74461ca028c          219            1   \n",
       "3  IPEN_27d34f7a999266f43f3ae74461ca028c          219            1   \n",
       "4  IPEN_27d34f7a999266f43f3ae74461ca028c          219            1   \n",
       "\n",
       "   num_topics         action     gas      time  \n",
       "0           9       assingID  253310  1.996515  \n",
       "1           9  addSearchTerm  292031  1.784559  \n",
       "2           9  addSearchTerm  199191  2.073971  \n",
       "3           9  addSearchTerm  284405  2.265674  \n",
       "4           9  addSearchTerm  281128  1.624342  "
      ]
     },
     "execution_count": 27,
     "metadata": {},
     "output_type": "execute_result"
    }
   ],
   "source": [
    "df.head(5)"
   ]
  },
  {
   "cell_type": "code",
   "execution_count": 28,
   "metadata": {},
   "outputs": [
    {
     "data": {
      "text/plain": [
       "18.67340629716073"
      ]
     },
     "execution_count": 28,
     "metadata": {},
     "output_type": "execute_result"
    }
   ],
   "source": [
    "df.groupby('id').sum().time.mean()"
   ]
  },
  {
   "cell_type": "code",
   "execution_count": null,
   "metadata": {},
   "outputs": [],
   "source": []
  }
 ],
 "metadata": {
  "kernelspec": {
   "display_name": "web3",
   "language": "python",
   "name": "python3"
  },
  "language_info": {
   "codemirror_mode": {
    "name": "ipython",
    "version": 3
   },
   "file_extension": ".py",
   "mimetype": "text/x-python",
   "name": "python",
   "nbconvert_exporter": "python",
   "pygments_lexer": "ipython3",
   "version": "3.8.10 (default, Mar 15 2022, 12:22:08) \n[GCC 9.4.0]"
  },
  "orig_nbformat": 4,
  "vscode": {
   "interpreter": {
    "hash": "c91f20dc1331e7acc5efc61f998b89bef11f2e0e5670d0b5404021aacd673267"
   }
  }
 },
 "nbformat": 4,
 "nbformat_minor": 2
}
