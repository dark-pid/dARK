{
 "cells": [
  {
   "attachments": {},
   "cell_type": "markdown",
   "metadata": {},
   "source": [
    "# Blockchain Operations"
   ]
  },
  {
   "cell_type": "code",
   "execution_count": 1,
   "metadata": {},
   "outputs": [],
   "source": [
    "import sys\n",
    "import os\n",
    "\n",
    "import requests\n",
    "import json\n",
    "\n",
    "import pandas as pd\n",
    "\n",
    "from web3 import Web3\n",
    "\n",
    "# SCRIPT_DIR = os.path.dirname(os.path.abspath('__file__'))\n",
    "PROJECT_DIR = os.path.dirname(os.path.abspath(''))\n",
    "sys.path.append(os.path.dirname(PROJECT_DIR))\n",
    "\n",
    "from pyDpi.util import setup\n",
    "from pyDpi.util.libs import invoke_contract_experimental"
   ]
  },
  {
   "attachments": {},
   "cell_type": "markdown",
   "metadata": {},
   "source": [
    "## enviroment setup"
   ]
  },
  {
   "attachments": {},
   "cell_type": "markdown",
   "metadata": {},
   "source": [
    "services init"
   ]
  },
  {
   "cell_type": "code",
   "execution_count": 2,
   "metadata": {},
   "outputs": [
    {
     "name": "stdout",
     "output_type": "stream",
     "text": [
      "/mnt/d/ibict/workspace/dARK_limits/dark/config.ini\n"
     ]
    }
   ],
   "source": [
    "w3 = setup.load_blockchain_driver()\n",
    "deployed_contracts = setup.load_deployed_smart_contracts(w3)\n",
    "dpid_db = deployed_contracts['PidDB.sol']\n",
    "epid_db = deployed_contracts['ExternalPidDB.sol']\n",
    "auth_db = deployed_contracts['AuthoritiesDB.sol']\n",
    "\n",
    "dpid_service = deployed_contracts['PIDService.sol']\n",
    "epid_service = deployed_contracts['ExternalPIDService.sol']\n",
    "sets_service = deployed_contracts['SearchTermService.sol']\n",
    "auth_service = deployed_contracts['AuthoritiesService.sol']\n",
    "\n",
    "chain_id,min_gas_price,pk = setup.get_exec_parameters()\n",
    "account = w3.eth.account.privateKeyToAccount(pk)"
   ]
  },
  {
   "attachments": {},
   "cell_type": "markdown",
   "metadata": {},
   "source": [
    "variables"
   ]
  },
  {
   "cell_type": "code",
   "execution_count": 3,
   "metadata": {},
   "outputs": [],
   "source": [
    "nam = '8003'\n",
    "ror_id = '3wf3'\n",
    "addr = '0xf17f52151EbEF6C7334FAD080c5704D77216b732'\n",
    "dshoulder_prefix = 'fkwf'   "
   ]
  },
  {
   "attachments": {},
   "cell_type": "markdown",
   "metadata": {},
   "source": [
    "dnma setup"
   ]
  },
  {
   "cell_type": "code",
   "execution_count": 4,
   "metadata": {},
   "outputs": [
    {
     "data": {
      "text/plain": [
       "HexBytes('0x47be0ba38f0ab57d6469dedd62c007b4605d000efe0ceeade9696543076c59bc')"
      ]
     },
     "execution_count": 4,
     "metadata": {},
     "output_type": "execute_result"
    }
   ],
   "source": [
    "recipt_tx, est_gas = invoke_contract_experimental(w3,account,chain_id, auth_service , 'create_dnam', ror_id , dshoulder_prefix, addr)\n",
    "auth_id = recipt_tx['logs'][0]['topics'][1]\n",
    "auth_id"
   ]
  },
  {
   "cell_type": "code",
   "execution_count": 8,
   "metadata": {},
   "outputs": [
    {
     "data": {
      "text/plain": [
       "'DecentralizedNameMappingAuthority :: 0xf17f52151EbEF6C7334FAD080c5704D77216b732 [ ror=3wf3 , shoulder_prefix=3wf3 ]'"
      ]
     },
     "execution_count": 8,
     "metadata": {},
     "output_type": "execute_result"
    }
   ],
   "source": [
    "auth_db.caller.count_dnma()\n",
    "Web3.toHex( auth_db.caller.get_dnma_by_index(0) ) # converte o indice 0 \n",
    "msg = \"DecentralizedNameMappingAuthority :: {} [ ror={} , shoulder_prefix={} ]\".format(auth_db.caller.get_dnma(auth_id)[-1],\n",
    "                                                                                        auth_db.caller.get_dnma(auth_id)[1],\n",
    "                                                                                        auth_db.caller.get_dnma(auth_id)[1])\n",
    "\n",
    "msg"
   ]
  },
  {
   "attachments": {},
   "cell_type": "markdown",
   "metadata": {},
   "source": [
    "configura o noid_provider da autoridade\n",
    " - nam ( ibict 8003)\n",
    " - addr da autho\n",
    " - noid_len : tamanho do noid\n",
    " - type (1 - dnma, 2 - sma)"
   ]
  },
  {
   "cell_type": "code",
   "execution_count": 9,
   "metadata": {},
   "outputs": [
    {
     "data": {
      "text/plain": [
       "HexBytes('0xf80e77d4a9c22a0e9303bf93ed778f120f57154d')"
      ]
     },
     "execution_count": 9,
     "metadata": {},
     "output_type": "execute_result"
    }
   ],
   "source": [
    "noid_len = 6\n",
    "\n",
    "r_tx, gas = invoke_contract_experimental(w3,account,chain_id, auth_service , 'configure_noid_provider_dnma', nam, auth_id , noid_len , 1)\n",
    "noid_addr = r_tx['logs'][0]['topics'][1][12:]\n",
    "noid_addr # endereco do contrato"
   ]
  }
 ],
 "metadata": {
  "kernelspec": {
   "display_name": "web3",
   "language": "python",
   "name": "python3"
  },
  "language_info": {
   "codemirror_mode": {
    "name": "ipython",
    "version": 3
   },
   "file_extension": ".py",
   "mimetype": "text/x-python",
   "name": "python",
   "nbconvert_exporter": "python",
   "pygments_lexer": "ipython3",
   "version": "3.8.10 (default, Mar 15 2022, 12:22:08) \n[GCC 9.4.0]"
  },
  "orig_nbformat": 4,
  "vscode": {
   "interpreter": {
    "hash": "c91f20dc1331e7acc5efc61f998b89bef11f2e0e5670d0b5404021aacd673267"
   }
  }
 },
 "nbformat": 4,
 "nbformat_minor": 2
}
