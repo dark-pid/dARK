{
 "cells": [
  {
   "cell_type": "code",
   "execution_count": 1,
   "metadata": {},
   "outputs": [],
   "source": [
    "import os\n",
    "import configparser\n",
    "\n",
    "from dark import DarkGateway\n",
    "from dark import DarkMap"
   ]
  },
  {
   "cell_type": "code",
   "execution_count": 2,
   "metadata": {},
   "outputs": [],
   "source": [
    "# PROJECT_ROOT = os.path.dirname(os.path.realpath(__file__))\n",
    "PROJECT_ROOT = 'D:\\workspace\\dark\\dARK\\\\'\n",
    "\n",
    "# PROJECT_ROOT = os.path.join(PROJECT_ROOT.split('dark')[0], 'dark')\n",
    "\n",
    "config_file = os.path.join(PROJECT_ROOT,'config.ini')\n",
    "deployed_contracts_config = os.path.join(PROJECT_ROOT,'deployed_contracts.ini')"
   ]
  },
  {
   "cell_type": "markdown",
   "metadata": {},
   "source": [
    "confif"
   ]
  },
  {
   "cell_type": "code",
   "execution_count": 3,
   "metadata": {},
   "outputs": [
    {
     "data": {
      "text/plain": [
       "['D:\\\\workspace\\\\dark\\\\dARK\\\\deployed_contracts.ini']"
      ]
     },
     "execution_count": 3,
     "metadata": {},
     "output_type": "execute_result"
    }
   ],
   "source": [
    "bc_conf = configparser.ConfigParser()\n",
    "bc_conf.read(config_file)\n",
    "\n",
    "contracts_conf = configparser.ConfigParser()\n",
    "contracts_conf.read(deployed_contracts_config)"
   ]
  },
  {
   "cell_type": "code",
   "execution_count": 4,
   "metadata": {},
   "outputs": [],
   "source": [
    "dgw =  DarkGateway(bc_conf,contracts_conf)\n",
    "dm = DarkMap(dgw)"
   ]
  },
  {
   "cell_type": "code",
   "execution_count": 6,
   "metadata": {},
   "outputs": [
    {
     "data": {
      "text/plain": [
       "'8033/fkwff30000000000030'"
      ]
     },
     "execution_count": 6,
     "metadata": {},
     "output_type": "execute_result"
    }
   ],
   "source": [
    "a = dm.sync_request_pid()\n",
    "a"
   ]
  },
  {
   "cell_type": "code",
   "execution_count": null,
   "metadata": {},
   "outputs": [],
   "source": []
  }
 ],
 "metadata": {
  "kernelspec": {
   "display_name": ".venv",
   "language": "python",
   "name": "python3"
  },
  "language_info": {
   "codemirror_mode": {
    "name": "ipython",
    "version": 3
   },
   "file_extension": ".py",
   "mimetype": "text/x-python",
   "name": "python",
   "nbconvert_exporter": "python",
   "pygments_lexer": "ipython3",
   "version": "3.10.10"
  },
  "orig_nbformat": 4
 },
 "nbformat": 4,
 "nbformat_minor": 2
}
