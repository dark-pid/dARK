{
 "cells": [
  {
   "cell_type": "code",
   "execution_count": 1,
   "metadata": {},
   "outputs": [],
   "source": [
    "import sys\n",
    "import os\n",
    "\n",
    "import requests\n",
    "import json\n",
    "\n",
    "import pandas as pd\n",
    "\n",
    "from web3 import Web3\n",
    "\n",
    "# SCRIPT_DIR = os.path.dirname(os.path.abspath('__file__'))\n",
    "PROJECT_DIR = os.path.dirname(os.path.abspath(''))\n",
    "sys.path.append(os.path.dirname(PROJECT_DIR))\n",
    "\n",
    "from pyDpi.util import setup\n",
    "from pyDpi.util.libs import invoke_contract"
   ]
  },
  {
   "cell_type": "markdown",
   "metadata": {},
   "source": [
    "seleciona a menor colecao"
   ]
  },
  {
   "cell_type": "code",
   "execution_count": 2,
   "metadata": {},
   "outputs": [
    {
     "name": "stdout",
     "output_type": "stream",
     "text": [
      "/home/edilson/Workspace/D-pi/config.ini\n"
     ]
    }
   ],
   "source": [
    "w3 = setup.load_blockchain_driver()\n",
    "deployed_contracts = setup.load_deployed_smart_contracts(w3)\n",
    "dpid_db = deployed_contracts['PidDB.sol']\n",
    "epid_db = deployed_contracts['ExternalPidDB.sol']\n",
    "auth_db = deployed_contracts['AuthoritiesDB.sol']\n",
    "\n",
    "dpid_service = deployed_contracts['PIDService.sol']\n",
    "epid_service = deployed_contracts['ExternalPIDService.sol']\n",
    "sets_service = deployed_contracts['SearchTermService.sol']\n",
    "auth_service = deployed_contracts['AuthoritiesService.sol']\n",
    "\n",
    "\n",
    "chain_id,min_gas_price,pk = setup.get_exec_parameters()\n",
    "account = w3.eth.account.privateKeyToAccount(pk)"
   ]
  },
  {
   "cell_type": "markdown",
   "metadata": {},
   "source": [
    "## Configuração do ambiente"
   ]
  },
  {
   "cell_type": "markdown",
   "metadata": {},
   "source": [
    "variaveis"
   ]
  },
  {
   "cell_type": "code",
   "execution_count": 3,
   "metadata": {},
   "outputs": [],
   "source": [
    "nam = '8003'\n",
    "ror_id = '3wf3'\n",
    "addr = '0xf17f52151EbEF6C7334FAD080c5704D77216b732'\n",
    "dshoulder_prefix = 'fkwf'"
   ]
  },
  {
   "cell_type": "markdown",
   "metadata": {},
   "source": [
    "### criar dnma\n",
    "\n",
    "- criar metodo para alterar"
   ]
  },
  {
   "cell_type": "code",
   "execution_count": 4,
   "metadata": {},
   "outputs": [
    {
     "data": {
      "text/plain": [
       "HexBytes('0x47be0ba38f0ab57d6469dedd62c007b4605d000efe0ceeade9696543076c59bc')"
      ]
     },
     "execution_count": 4,
     "metadata": {},
     "output_type": "execute_result"
    }
   ],
   "source": [
    "recipt_tx = invoke_contract(w3,account,chain_id, auth_service , 'create_dnam', ror_id , dshoulder_prefix, addr)\n",
    "auth_id = recipt_tx['logs'][0]['topics'][1]\n",
    "auth_id"
   ]
  },
  {
   "cell_type": "code",
   "execution_count": 5,
   "metadata": {},
   "outputs": [
    {
     "data": {
      "text/plain": [
       "'DecentralizedNameMappingAuthority :: 0xf17f52151EbEF6C7334FAD080c5704D77216b732 [ ror=3wf3 , shoulder_prefix=3wf3 ]'"
      ]
     },
     "execution_count": 5,
     "metadata": {},
     "output_type": "execute_result"
    }
   ],
   "source": [
    "auth_db.caller.count_dnma()\n",
    "Web3.toHex( auth_db.caller.get_dnma_by_index(0) ) # converte o indice 0 \n",
    "msg = \"DecentralizedNameMappingAuthority :: {} [ ror={} , shoulder_prefix={} ]\".format(auth_db.caller.get_dnma(auth_id)[-1],\n",
    "                                                                                        auth_db.caller.get_dnma(auth_id)[1],\n",
    "                                                                                        auth_db.caller.get_dnma(auth_id)[1])\n",
    "\n",
    "msg"
   ]
  },
  {
   "cell_type": "markdown",
   "metadata": {},
   "source": [
    "configura o noid_provider da autoridade\n",
    " - nam ( ibict 8003)\n",
    " - addr da autho\n",
    " - noid_len : tamanho do noid\n",
    " - type (1 - dnma, 2 - sma)"
   ]
  },
  {
   "cell_type": "code",
   "execution_count": 6,
   "metadata": {},
   "outputs": [
    {
     "data": {
      "text/plain": [
       "HexBytes('0x2b1628dda8dfffaf219cb00a1009b5ca66489702')"
      ]
     },
     "execution_count": 6,
     "metadata": {},
     "output_type": "execute_result"
    }
   ],
   "source": [
    "noid_len = 5\n",
    "\n",
    "r_tx = invoke_contract(w3,account,chain_id, auth_service , 'configure_noid_provider_dnma', nam, auth_id , noid_len , 1)\n",
    "noid_addr = r_tx['logs'][0]['topics'][1][12:]\n",
    "noid_addr # endereco do contrato"
   ]
  },
  {
   "cell_type": "markdown",
   "metadata": {},
   "source": [
    "### pid service"
   ]
  },
  {
   "cell_type": "markdown",
   "metadata": {},
   "source": [
    "#### create a noid"
   ]
  },
  {
   "cell_type": "code",
   "execution_count": 7,
   "metadata": {},
   "outputs": [
    {
     "data": {
      "text/plain": [
       "HexBytes('0x4d43c455dad9fba4fc813875117506782acd79501649077412a359a0f16805b7')"
      ]
     },
     "execution_count": 7,
     "metadata": {},
     "output_type": "execute_result"
    }
   ],
   "source": [
    "r_tx = invoke_contract(w3,account,chain_id, dpid_service , 'assingID', addr)\n",
    "dark_id = r_tx['logs'][0]['topics'][1]\n",
    "dark_id"
   ]
  },
  {
   "cell_type": "code",
   "execution_count": 8,
   "metadata": {},
   "outputs": [
    {
     "data": {
      "text/plain": [
       "'8003/fkwff300001v'"
      ]
     },
     "execution_count": 8,
     "metadata": {},
     "output_type": "execute_result"
    }
   ],
   "source": [
    "# Web3.toHex( dpid_db.caller.get(dark_id)[0] )\n",
    "dpid_db.caller.get(dark_id)[1]"
   ]
  },
  {
   "cell_type": "markdown",
   "metadata": {},
   "source": [
    "##### create a metada"
   ]
  },
  {
   "cell_type": "markdown",
   "metadata": {},
   "source": [
    "search term"
   ]
  },
  {
   "cell_type": "code",
   "execution_count": 9,
   "metadata": {},
   "outputs": [],
   "source": [
    "r_tx = invoke_contract(w3,account,chain_id, dpid_service, 'addSearchTerm',dark_id ,'DARK')\n",
    "r_tx = invoke_contract(w3,account,chain_id, dpid_service, 'addSearchTerm',dark_id, 'ARK')"
   ]
  },
  {
   "cell_type": "markdown",
   "metadata": {},
   "source": [
    "external pid"
   ]
  },
  {
   "cell_type": "code",
   "execution_count": 10,
   "metadata": {},
   "outputs": [],
   "source": [
    "r_tx = invoke_contract(w3,account,chain_id, dpid_service, 'addExternalPid',dark_id, 'DOI' , '10.1016/j.is.2021.101826') "
   ]
  },
  {
   "cell_type": "markdown",
   "metadata": {},
   "source": [
    "external link"
   ]
  },
  {
   "cell_type": "code",
   "execution_count": 11,
   "metadata": {},
   "outputs": [],
   "source": [
    "r_tx = invoke_contract(w3,account,chain_id, dpid_service, 'add_externalLinks',dark_id, 'https://doi.org/10.1016/j.is.2021.101826') "
   ]
  },
  {
   "cell_type": "markdown",
   "metadata": {},
   "source": [
    "payload"
   ]
  },
  {
   "cell_type": "code",
   "execution_count": 12,
   "metadata": {},
   "outputs": [],
   "source": [
    "payload_data = { 'title' : 'Blockchain-based Privacy-Preserving Record Linkage: enhancing data privacy in an untrusted environment.' ,\n",
    "                 'author' : 'Thiago Nóbrega',\n",
    "                 'type' : 'Article'\n",
    "            }\n",
    "\n",
    "\n",
    "r_tx = invoke_contract(w3,account,chain_id, dpid_service, 'set_payload',dark_id, str(payload_data)) "
   ]
  },
  {
   "cell_type": "code",
   "execution_count": null,
   "metadata": {},
   "outputs": [],
   "source": [
    "    "
   ]
  }
 ],
 "metadata": {
  "kernelspec": {
   "display_name": "Python 3.8.10 ('web3')",
   "language": "python",
   "name": "python3"
  },
  "language_info": {
   "codemirror_mode": {
    "name": "ipython",
    "version": 3
   },
   "file_extension": ".py",
   "mimetype": "text/x-python",
   "name": "python",
   "nbconvert_exporter": "python",
   "pygments_lexer": "ipython3",
   "version": "3.8.10"
  },
  "orig_nbformat": 4,
  "vscode": {
   "interpreter": {
    "hash": "ac3a1401024fdd807f7187061d03b6573222ce79714576ddabd7165c5c0b125e"
   }
  }
 },
 "nbformat": 4,
 "nbformat_minor": 2
}
