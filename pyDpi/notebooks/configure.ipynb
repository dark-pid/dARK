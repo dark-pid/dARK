{
 "cells": [
  {
   "cell_type": "code",
   "execution_count": 8,
   "metadata": {},
   "outputs": [
    {
     "data": {
      "text/plain": [
       "Version('0.8.13')"
      ]
     },
     "execution_count": 8,
     "metadata": {},
     "output_type": "execute_result"
    }
   ],
   "source": [
    "import solcx\n",
    "solcx.install_solc('0.8.13')"
   ]
  },
  {
   "cell_type": "markdown",
   "metadata": {},
   "source": [
    "configuring the blockchain"
   ]
  },
  {
   "cell_type": "code",
   "execution_count": 9,
   "metadata": {},
   "outputs": [
    {
     "ename": "NameError",
     "evalue": "name 'setup' is not defined",
     "output_type": "error",
     "traceback": [
      "\u001b[0;31m---------------------------------------------------------------------------\u001b[0m",
      "\u001b[0;31mNameError\u001b[0m                                 Traceback (most recent call last)",
      "\u001b[1;32m/home/edilson/Workspace/D-pi/pyDpi/notebooks/configure.ipynb Cell 3'\u001b[0m in \u001b[0;36m<cell line: 1>\u001b[0;34m()\u001b[0m\n\u001b[0;32m----> <a href='vscode-notebook-cell:/home/edilson/Workspace/D-pi/pyDpi/notebooks/configure.ipynb#ch0000002?line=0'>1</a>\u001b[0m w3 \u001b[39m=\u001b[39m setup\u001b[39m.\u001b[39mload_blockchain_driver()\n\u001b[1;32m      <a href='vscode-notebook-cell:/home/edilson/Workspace/D-pi/pyDpi/notebooks/configure.ipynb#ch0000002?line=1'>2</a>\u001b[0m compiled_contracts \u001b[39m=\u001b[39m setup\u001b[39m.\u001b[39mcompile()\n\u001b[1;32m      <a href='vscode-notebook-cell:/home/edilson/Workspace/D-pi/pyDpi/notebooks/configure.ipynb#ch0000002?line=2'>3</a>\u001b[0m deployed_contracts \u001b[39m=\u001b[39m setup\u001b[39m.\u001b[39mdeploy_contracts(w3,compiled_contracts)\n",
      "\u001b[0;31mNameError\u001b[0m: name 'setup' is not defined"
     ]
    }
   ],
   "source": [
    "w3 = setup.load_blockchain_driver()\n",
    "compiled_contracts = setup.compile()\n",
    "deployed_contracts = setup.deploy_contracts(w3,compiled_contracts)\n",
    "configured_contracts = setup.configure_env(w3,deployed_contracts)"
   ]
  },
  {
   "cell_type": "markdown",
   "metadata": {},
   "source": [
    "saving the smart contract"
   ]
  },
  {
   "cell_type": "code",
   "execution_count": 6,
   "metadata": {},
   "outputs": [],
   "source": [
    "setup.save_smart_contract(deployed_contracts)"
   ]
  }
 ],
 "metadata": {
  "interpreter": {
   "hash": "ac3a1401024fdd807f7187061d03b6573222ce79714576ddabd7165c5c0b125e"
  },
  "kernelspec": {
   "display_name": "Python 3.8.10 ('web3')",
   "language": "python",
   "name": "python3"
  },
  "language_info": {
   "codemirror_mode": {
    "name": "ipython",
    "version": 3
   },
   "file_extension": ".py",
   "mimetype": "text/x-python",
   "name": "python",
   "nbconvert_exporter": "python",
   "pygments_lexer": "ipython3",
   "version": "3.8.10"
  },
  "orig_nbformat": 4
 },
 "nbformat": 4,
 "nbformat_minor": 2
}
