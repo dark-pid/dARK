{
 "cells": [
  {
   "cell_type": "code",
   "execution_count": null,
   "metadata": {},
   "outputs": [],
   "source": [
    "import sys\n",
    "import os\n",
    "import logging\n",
    "\n",
    "PROJECT_DIR = os.path.dirname(os.path.abspath(''))\n",
    "sys.path.append(os.path.dirname(PROJECT_DIR))\n",
    "\n",
    "from pyDpi.util import setup"
   ]
  },
  {
   "cell_type": "markdown",
   "metadata": {},
   "source": [
    "configuring the blockchain"
   ]
  },
  {
   "cell_type": "code",
   "execution_count": null,
   "metadata": {},
   "outputs": [],
   "source": [
    "# logging.basicConfig(filename='myapp.log', level=logging.INFO)\n",
    "# logging.basicConfig(level=logging.INFO)"
   ]
  },
  {
   "cell_type": "code",
   "execution_count": null,
   "metadata": {},
   "outputs": [],
   "source": [
    "w3 = setup.load_blockchain_driver()\n",
    "compiled_contracts = setup.compile()\n",
    "deployed_contracts = setup.deploy_contracts(w3,compiled_contracts)\n",
    "configured_contracts = setup.configure_env(w3,deployed_contracts)"
   ]
  },
  {
   "cell_type": "markdown",
   "metadata": {},
   "source": [
    "saving the smart contract"
   ]
  },
  {
   "cell_type": "code",
   "execution_count": null,
   "metadata": {},
   "outputs": [],
   "source": [
    "setup.save_smart_contract(deployed_contracts)"
   ]
  }
 ],
 "metadata": {
  "interpreter": {
   "hash": "3205a0140dd6f24c0dd9edd5546dd90f7a596f2328c4e733fa92c4954d87b72e"
  },
  "kernelspec": {
   "display_name": "Python 3.8.10 ('web3')",
   "language": "python",
   "name": "python3"
  },
  "language_info": {
   "codemirror_mode": {
    "name": "ipython",
    "version": 3
   },
   "file_extension": ".py",
   "mimetype": "text/x-python",
   "name": "python",
   "nbconvert_exporter": "python",
   "pygments_lexer": "ipython3",
   "version": "3.8.10"
  },
  "orig_nbformat": 4
 },
 "nbformat": 4,
 "nbformat_minor": 2
}
