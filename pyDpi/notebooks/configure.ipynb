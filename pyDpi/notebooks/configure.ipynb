{
 "cells": [
  {
   "cell_type": "code",
   "execution_count": 4,
   "metadata": {},
   "outputs": [
    {
     "data": {
      "text/plain": [
       "Version('0.8.13')"
      ]
     },
     "execution_count": 4,
     "metadata": {},
     "output_type": "execute_result"
    }
   ],
   "source": [
    "import solcx\n",
    "solcx.install_solc('0.8.13')"
   ]
  },
  {
   "cell_type": "markdown",
   "metadata": {},
   "source": [
    "configuring the blockchain"
   ]
  },
  {
   "cell_type": "code",
   "execution_count": 5,
   "metadata": {},
   "outputs": [
    {
     "name": "stdout",
     "output_type": "stream",
     "text": [
      "/home/edilson/Workspace/D-pi/config.ini\n"
     ]
    }
   ],
   "source": [
    "w3 = setup.load_blockchain_driver()\n",
    "compiled_contracts = setup.compile()\n",
    "deployed_contracts = setup.deploy_contracts(w3,compiled_contracts)\n",
    "configured_contracts = setup.configure_env(w3,deployed_contracts)"
   ]
  },
  {
   "cell_type": "markdown",
   "metadata": {},
   "source": [
    "saving the smart contract"
   ]
  },
  {
   "cell_type": "code",
   "execution_count": 6,
   "metadata": {},
   "outputs": [],
   "source": [
    "setup.save_smart_contract(deployed_contracts)"
   ]
  }
 ],
 "metadata": {
  "interpreter": {
   "hash": "ac3a1401024fdd807f7187061d03b6573222ce79714576ddabd7165c5c0b125e"
  },
  "kernelspec": {
   "display_name": "Python 3.8.10 ('web3')",
   "language": "python",
   "name": "python3"
  },
  "language_info": {
   "codemirror_mode": {
    "name": "ipython",
    "version": 3
   },
   "file_extension": ".py",
   "mimetype": "text/x-python",
   "name": "python",
   "nbconvert_exporter": "python",
   "pygments_lexer": "ipython3",
   "version": "3.8.10"
  },
  "orig_nbformat": 4
 },
 "nbformat": 4,
 "nbformat_minor": 2
}
